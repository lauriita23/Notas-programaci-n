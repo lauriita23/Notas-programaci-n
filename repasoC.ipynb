{
 "cells": [
  {
   "cell_type": "markdown",
   "metadata": {},
   "source": [
    "# Preliminares"
   ]
  },
  {
   "cell_type": "markdown",
   "metadata": {
    "id": "S13l8rOYEQw4"
   },
   "source": [
    "## Preparación del entorno (solo para ejecutar en Colab) \n",
    "\n",
    "Las dos siguiente casillas de código instalan y configuran Valgrind  en el Kernel"
   ]
  },
  {
   "cell_type": "code",
   "execution_count": null,
   "metadata": {
    "colab": {
     "base_uri": "https://localhost:8080/"
    },
    "executionInfo": {
     "elapsed": 16521,
     "status": "ok",
     "timestamp": 1613576702121,
     "user": {
      "displayName": "Programación II",
      "photoUrl": "",
      "userId": "07270898111776996836"
     },
     "user_tz": -60
    },
    "id": "uNvVytIiENf_",
    "outputId": "6b44db06-c7af-4470-8748-0a9964aded79"
   },
   "outputs": [],
   "source": [
    "!apt-get install valgrind"
   ]
  },
  {
   "cell_type": "code",
   "execution_count": null,
   "metadata": {
    "colab": {
     "base_uri": "https://localhost:8080/"
    },
    "executionInfo": {
     "elapsed": 568,
     "status": "ok",
     "timestamp": 1613576714594,
     "user": {
      "displayName": "Programación II",
      "photoUrl": "",
      "userId": "07270898111776996836"
     },
     "user_tz": -60
    },
    "id": "Az0C2Pw6FmL8",
    "outputId": "f9d4751f-cdec-4e57-9229-510701522f31"
   },
   "outputs": [],
   "source": [
    "import os, json, signal, time\n",
    "\n",
    "if 'libtcmalloc' in os.environ.get('LD_PRELOAD', ''):\n",
    "  kernel_fn = '/usr/local/share/jupyter/kernels/python3/kernel.json'\n",
    "  spec = json.load(open(kernel_fn))\n",
    "  spec['env'] = {'LD_PRELOAD': ''}\n",
    "  json.dump(spec, open(kernel_fn, 'w'))\n",
    "  print(\"Installed workaround for valgrind. Don't wait for this cell to finish,\")\n",
    "  print('just REFRESH the browser tab and RUN this cell again.', flush=True)\n",
    "  time.sleep(0.5)\n",
    "  # killing the kernel manager so that specs get reloaded\n",
    "  os.kill(os.getppid(), signal.SIGTERM)\n",
    "else:\n",
    "  print('Kernel is valgrind-ready!')"
   ]
  },
  {
   "cell_type": "markdown",
   "metadata": {
    "id": "wSRAug7ZGa90"
   },
   "source": [
    "Por comodidad *Replica* esta celda en una pestaña. Este script compila con gcc "
   ]
  },
  {
   "cell_type": "code",
   "execution_count": null,
   "metadata": {
    "colab": {
     "base_uri": "https://localhost:8080/"
    },
    "executionInfo": {
     "elapsed": 1449,
     "status": "ok",
     "timestamp": 1613581644672,
     "user": {
      "displayName": "Programación II",
      "photoUrl": "",
      "userId": "07270898111776996836"
     },
     "user_tz": -60
    },
    "id": "Or_k8ghoW0Il",
    "outputId": "c7ed7eb0-cc33-400e-b1f5-44306f71eece"
   },
   "outputs": [],
   "source": [
    "%%bash\n",
    "echo \"Compilando con gcc ....\" \n",
    "gcc -o pp pp.c -std=c99\n",
    "\n",
    "echo \"Resultado de la ejecución del fichero $file...\"\n",
    "echo \n",
    "# valgrind ./pp\n",
    "./pp"
   ]
  },
  {
   "cell_type": "markdown",
   "metadata": {
    "id": "pIzJ0T4LW0IQ"
   },
   "source": [
    "## Herramientas fundamentales\n",
    "\n",
    "* Para visualizar la gestión de memoria: [Python Tutor](http://pythontutor.com/visualize.html#mode=edit) es\n",
    "una herramienta excepcional para entender la gestión de memoria. Por favor prueba en ella los códigos de esta página seleccionando el lenguaje C.En la mayoría de los ejemplos hemos incluído el enlace correspondiente. \n",
    "\n",
    "* Un compilador de C: Por ejemplo, [OnelineGDB](https://www.onlinegdb.com/) \n",
    "   es un entorno de programación *online* sencillo para compilar, ejecutar y debuggear programas en C. Te permitirá probar los ejercicios de este tutorial pero, probablemente, no los ejercicios del resto del curso.  \n",
    "\n",
    "* Valgrind "
   ]
  },
  {
   "cell_type": "markdown",
   "metadata": {
    "id": "_VSWrdXoJW_y"
   },
   "source": [
    "# Everything You Always Wanted to Know About C Lenguage But Were Afraid to Ask"
   ]
  },
  {
   "cell_type": "markdown",
   "metadata": {},
   "source": [
    "**Nota** Para ejecutar los códigos puedes hacer copy/paste en  [OnelineGDB](https://www.onlinegdb.com/) excluyendo la sentencia `%%writefile pp.c` que obviamente no es C."
   ]
  },
  {
   "cell_type": "code",
   "execution_count": null,
   "metadata": {
    "colab": {
     "base_uri": "https://localhost:8080/"
    },
    "executionInfo": {
     "elapsed": 524,
     "status": "ok",
     "timestamp": 1613554163505,
     "user": {
      "displayName": "Programación II",
      "photoUrl": "",
      "userId": "07270898111776996836"
     },
     "user_tz": -60
    },
    "id": "eLmzTAQSW0Ir",
    "outputId": "4a3c6a3c-ed22-422a-a27a-1b42a5b0e725"
   },
   "outputs": [],
   "source": [
    "%%writefile pp.c\n",
    "\n",
    "#include <stdlib.h>\n",
    "#include <stdio.h>\n",
    "\n",
    "int main (int argc, char *argv[]) {\n",
    "    char *str;\n",
    "    \n",
    "    str = \"hola mundo\";\n",
    "    fprintf (stdout, \"%s\", str);\n",
    "    \n",
    "    return EXIT_SUCCESS;\n",
    "}"
   ]
  },
  {
   "cell_type": "markdown",
   "metadata": {
    "id": "DYbmlNb5W0Iu"
   },
   "source": [
    "## Definición de variables   \n",
    "\n",
    "### ¿Que implica definir una variable en C? \n",
    "\n",
    "Supón el siguiente programa en el que definimos `a` como variable de tipo entero y después le asignamos el valor 5 \n",
    "[Python Tutor](http://pythontutor.com/visualize.html#code=%23include%20%3Cstdlib.h%3E%0A%23include%20%3Cstdio.h%3E%0A%0Aint%20main%20%28int%20argc,%20char%20*argv%5B%5D%29%20%7B%0A%20%20%20%20int%20a%3B%20%20%20%20//%20definici%C3%B3n%20y%20declaraci%C3%B3n%0A%20%20%20%20a%20%3D%205%3B%20%20%20%20//%20asignaci%C3%B3n%0A%20%20%20%20%0A%20%20%20%20fprintf%20%28stdout,%20%22El%20valor%20de%20a%20es%3A%20%25d%5Cn%22,%20a%29%3B%0A%20%20%20%20fprintf%20%28stdout,%20%22La%20direcci%C3%B3n%20de%20a%20es%3A%20%25p%5Cn%22,%20%26a%29%3B%0A%20%20%20%20%0A%20%20%20%20return%20EXIT_SUCCESS%3B%0A%7D&cumulative=false&curInstr=0&heapPrimitives=nevernest&mode=display&origin=opt-frontend.js&py=c&rawInputLstJSON=%5B%5D&textReferences=false)"
   ]
  },
  {
   "cell_type": "code",
   "execution_count": null,
   "metadata": {
    "colab": {
     "base_uri": "https://localhost:8080/"
    },
    "executionInfo": {
     "elapsed": 773,
     "status": "ok",
     "timestamp": 1612955763469,
     "user": {
      "displayName": "Programación II",
      "photoUrl": "",
      "userId": "07270898111776996836"
     },
     "user_tz": -60
    },
    "id": "EhzixFFSW0Iu",
    "outputId": "05417aac-a6f4-49c4-bf28-c06db5209d4b"
   },
   "outputs": [],
   "source": [
    "%%writefile pp.c\n",
    "\n",
    "#include <stdlib.h>\n",
    "#include <stdio.h>\n",
    "\n",
    "\n",
    "int main () {\n",
    "    int a;    // definición y declaración\n",
    "    char c;\n",
    "    a = 5;    // asignación\n",
    "    \n",
    "    fprintf (stdout, \"El valor de a es: %d\\n\", a);\n",
    "    fprintf (stdout, \"La dirección de a es: %p\\n\", &a);\n",
    "    \n",
    "    return EXIT_SUCCESS;\n",
    "}"
   ]
  },
  {
   "cell_type": "markdown",
   "metadata": {
    "id": "zt9-ZCGuW0Iv"
   },
   "source": [
    "A diferencia de otros lenguajes de programación, en C es necesario definir el tipo de la variables antes de asignarles un valor. \n",
    "Cuando definimos una variable en C:\n",
    "\n",
    "1. Se reserva espacio *físico* en memoria para la variable:\n",
    "\n",
    "\t* El espacio tendrá un tamaño adecuado para el tipo de dato que se almacenará en la variable, en este caso un entero. Puedes obtener el tamaño de cualquier tipo de dato con el operador `sizeof`:\n",
    "\n",
    "    * El espacio reservado tendrá una dirección. **NO** podemos modificar la dirección de un variable pero sí podemos preguntar cúal es.\n",
    "\n",
    "    * La variable sólo es válida (existe) en el bloque de código donde se declaró. Recuerda que en C un bloque de código está delimitado por los símbolos de apertura  `{` y cierre `}`. [Python Tutor](http://pythontutor.com/visualize.html#code=%23%20include%20%3Cstdio.h%3E%0A%23%20include%20%3Cstdlib.h%3E%0A%20%0Aint%20main%20%28int%20argc,%20char%20*argv%5B%5D%29%20%7B%0A%20%20int%20i%20%3D%201%3B%0A%20%20char%20c%20%3D'b'%3B%0A%20%20long%20int%20l%20%3D%20150000%3B%0A%20%0A%20%20fprintf%20%28stdout,%20%22%25ld%20%25ld%20%25ld%5Cn%22,%20sizeof%28c%29,%20sizeof%28i%29,%20sizeof%28l%29%20%29%3B%0A%20%20fprintf%20%28stdout,%20%22%25ld%20%25ld%20%25ld%5Cn%22,%20sizeof%28char%29,%20sizeof%28int%29,%20sizeof%28long%20int%29%29%3B%0A%20%0A%20%20//%20address%20memory%0A%20%20fprintf%20%28stdout,%20%22%25p%20%25p%20%25p%5Cn%22,%20%26c,%20%26i,%20%26l%29%3B%0A%20%20//%20Values%0A%20%20fprintf%20%28stdout,%20%22%25c%20%25d%20%25ld%5Cn%22,%20c,%20i,%20l%29%3B%0A%0A%20%20return%20EXIT_SUCCESS%3B%0A%7D&cumulative=false&curInstr=9&heapPrimitives=nevernest&mode=display&origin=opt-frontend.js&py=c&rawInputLstJSON=%5B%5D&textReferences=false)\n",
    "\n",
    "```c\n",
    "# include <stdio.h>\n",
    "# include <stdlib.h>\n",
    " \n",
    "int main (int argc, char *argv[]) {\n",
    "  int i = 1;\n",
    "  char c ='b';\n",
    "  long int l = 150000;\n",
    " \n",
    "  fprintf (stdout, \"%ld %ld %ld\\n\", sizeof(c), sizeof(i), sizeof(l) );\n",
    "  fprintf (stdout, \"%ld %ld %ld\\n\", sizeof(char), sizeof(int), sizeof(long int));\n",
    " \n",
    "  // address memory\n",
    "  fprintf (stdout, \"%p %p %p\\n\", &c, &i, &l);\n",
    "  // Values\n",
    "  fprintf (stdout, \"%c %d %ld\\n\", c, i, l);\n",
    "\n",
    "  return EXIT_SUCCESS;\n",
    "}\n",
    "```\n",
    "2.  En C una variable es un nombre que identifica una (o varias) posiciones de memoria donde guardaremos un dato. \n",
    "\n",
    "3. Abusando del lenguaje, es útil *pensar* que cuando definimos una variable *creamos una entidad (u objeto) de un determinado **tipo** al que le damos un nombre*. En nuestro ejemplo `a` será un objeto (o entidad) capaz de almacenar un dato de tipo entero. También oirás decir que `a` es un *objeto de tipo entero* o simplemente que `a` es un entero. \n",
    "\n",
    "4. Al declarar una variable de un determinado tipo, estamos permitiendo que la variable utilice un conjunto de **operadores**. Los operadores concretos que pueden *operar* sobre una variable dependerán del tipo de la variable. Por ejemplo, el conjunto de operadores que pueden operar sobre de las variables de tipo `int` es distinto al de las variable de tipo  `char`, o al de las variable de tipo *puntero a entero*.\n",
    "  \n",
    " Ejemplos de operadores de las variables de tipo `int` son:\n",
    "\n",
    "* El operador de asignación `=` : Por ejemplo `a = 5 `. **Importante:** En una asignación los dos miembros de la asignación deben de ser del mismo tipo. En este caso `a` es de tipo entero y `3` es un entero, por tanto la asignación es correcta. \n",
    "\t\n",
    "* Los operadores aritméticos como el operador de adición `+`: `a = a + 3` o el de multiplicación `a*3`\n",
    "\t\n",
    "* El operador de incremento y asignación: `a++`. Esta sentencia es equivalente a `a = a + 1`\t\n",
    "    \n",
    "* El operador `&` que devuelve la dirección de memoria de la variable: `fprintf (stdout, \"La dirección de a es: %p\", &a); `  \n",
    " \n",
    "* El operador `sizeof` que devuelve el tamaño de la variable\n",
    "\n",
    "Ejemplos de operadores de las variables de tipo `char` son:\n",
    "\n",
    "* El operador de asignación : `a = '3'`. Notad que las comillas son simples **no** dobles.  \n",
    "    \n",
    "* ¿Está definido el operador de adición para los objetos de tipo `char`? Pruébalo con el siguiente código:\t\n",
    "\n"
   ]
  },
  {
   "cell_type": "code",
   "execution_count": null,
   "metadata": {
    "colab": {
     "base_uri": "https://localhost:8080/"
    },
    "executionInfo": {
     "elapsed": 560,
     "status": "ok",
     "timestamp": 1613508813974,
     "user": {
      "displayName": "Programación II",
      "photoUrl": "",
      "userId": "07270898111776996836"
     },
     "user_tz": -60
    },
    "id": "HMQNedXJW0I0",
    "outputId": "913ffacd-8a57-411b-c27a-8711e2b481d4"
   },
   "outputs": [],
   "source": [
    "%%writefile pp.c\n",
    "\n",
    "#include <stdlib.h>\n",
    "#include <stdio.h>\n",
    "\n",
    "int main (int argc, char *argv[]) {\n",
    "    char a = '0';\n",
    "    \n",
    "    fprintf (stdout, \"El valor a es: %c\\n\", a);\n",
    "    \n",
    "    a = a + 1;\n",
    "    fprintf (stdout,\"El valor de a es: %c\\n\", a);\n",
    "    \n",
    "    a = a + '1';\n",
    "    fprintf (stdout,\"El valor de a es: %c\\n\", a);\n",
    "\n",
    "    return EXIT_SUCCESS;\n",
    "}"
   ]
  },
  {
   "cell_type": "markdown",
   "metadata": {
    "id": "JZCfbRj9W0I3"
   },
   "source": [
    "## Algunos tipos de dato:\n",
    "\n",
    "\n",
    "\n",
    "### Puntero simple\n",
    "\n",
    "Supongamos la siguiente declaración: \n",
    "\n",
    "```c\n",
    " int *pa;\n",
    "```\n",
    "\n",
    "Acostúmbrate a leer la definición anterior de derecha a izquierda. El asterisco indica que `pa` es una variable (o una entidad, o un objeto como prefieras llamarlo) a la que *asignaremos* (en la que *vamos a guardar*) la dirección de un objeto. En este caso en `pa` podremos guardar la dirección un entero.\n",
    "\n",
    "Algunos operadores accesibles a los objetos de tipo puntero son:\n",
    "\n",
    "* Asignación `=`: Al haber definido `pa` como un objeto que *guarda* direcciones de enteros *solo* deberíamos asignarle direcciones de objetos que almacenen enteros. \n",
    "¿Son correctos estos ejemplos?:\n",
    "\n",
    "```c\n",
    " char *pc;\n",
    " char c;\n",
    " int a;\n",
    "\n",
    " pc = &c;\n",
    " pc = &a; //  Warninig\n",
    "```\n",
    "* Direccionamiento `&`: Como cualquier objeto en `C`, un puntero también tendrá una dirección. No confundas la dirección del puntero con la dirección que guardamos en el puntero (\"a la que apunta\" el puntero). Podemos acceder a la dirección del puntero con el operador `&`. Por ejemplo `printf(\"%p\" &p)`. \n",
    "* Desreferenciar `*`: Este operador nos permitirá acceder al contenido de la dirección guardada el puntero. Obviamente antes de *desreferenciar* un puntero debemos haber guardado previamente en él una dirección válida (*debemos haberle asignado previamente una dirección válida*) \n",
    "\n",
    "````c\n",
    "int *pa;\n",
    "int a;\n",
    "pa = &a;\n",
    "*pa = 5;\n",
    "````\n",
    "* ¿Tienen sentido las siguientes sentencias?¿Son correctas las sentencias comentadas? [Python Tutor]( http://pythontutor.com/visualize.html#code=%0A%0A%23include%20%3Cstdlib.h%3E%0A%23include%20%3Cstdio.h%3E%0A%0Aint%20main%20%28int%20argc,%20char%20*argv%5B%5D%29%20%7B%0A%20%20%20%20int%20*pa%20%3D%20NULL%3B%0A%20%20%20%20int%20a%20%3B%0A%20%20%20%20%0A%20%20%20%20fprintf%20%28stdout,%20%22%25p%20%25p%5Cn%22,%20pa,%20%26a%29%3B%0A%20%20%20%20%0A%20%20%20%20pa%20%3D%20%26a%3B%20%20//%20pa%20espera%20que%20le%20asignemos%20la%20direcci%C3%B3n%20de%20una%20entidad%20que%20%0A%20%20%20%20%20%20%20%20%20%20%20%20%20%20//%20almacena%20un%20entero.%20Como%20la%20variable%20%60a%60%20guarda%20un%20entero%20%0A%20%20%20%20%20%20%20%20%20%20%20%20%20%20//%20la%20asignaci%C3%B3%C3%B3n%20es%20v%C3%A1lida.%20%0A%20%20%20%20%0A%20%20%20%20fprintf%20%28stdout,%20%22%25p%20%25p%5Cn%22,%20pa,%20%26a%29%3B%0A%20%20%20%20%0A%20%20%20%20*pa%20%3D%2025%3B%20%20%20//Desreferenciar%3A%20Accedo%20al%20contenido%20de%20la%20direcci%C3%B3n%20guardada%20%0A%20%20%20%20%20%20%20%20%20%20%20%20%20%20%20%20//%20en%20pa%0A%20%20%20%20%0A%20%20%20%20%20%20fprintf%20%28stdout,%20%22%25d,%20%25d%20%5Cn%22,%20a,%20*pa%29%3B%20%0A//%20%20%20%20fprintf%20%28stdout,%20%22%25d%20%5Cn%22,%20*a%29%3B%0A%20%20%20%20%20%20fprintf%20%28stdout,%20%22%25d%20%5Cn%22,%20*%26a%29%3B%0A%20%20%20%20%0A%20%20%20%20return%20EXIT_SUCCESS%3B%0A%7D&cumulative=false&curInstr=9&heapPrimitives=nevernest&mode=display&origin=opt-frontend.js&py=c&rawInputLstJSON=%5B%5D&textReferences=false)"
   ]
  },
  {
   "cell_type": "code",
   "execution_count": null,
   "metadata": {
    "colab": {
     "base_uri": "https://localhost:8080/"
    },
    "executionInfo": {
     "elapsed": 776,
     "status": "ok",
     "timestamp": 1612958204028,
     "user": {
      "displayName": "Programación II",
      "photoUrl": "",
      "userId": "07270898111776996836"
     },
     "user_tz": -60
    },
    "id": "4pEcVp93W0I5",
    "outputId": "707056c4-67f0-4ad9-952f-85f6cad8be55"
   },
   "outputs": [],
   "source": [
    "%%writefile pp.c\n",
    "\n",
    "#include <stdlib.h>\n",
    "#include <stdio.h>\n",
    "\n",
    "int main (int argc, char *argv[]) {\n",
    "    int *pa = NULL;\n",
    "    int a ;\n",
    "    \n",
    "    fprintf (stdout, \"%p %p\\n\", pa, &a);\n",
    "    \n",
    "    pa = &a;  // pa espera que le asignemos la dirección de una entidad que \n",
    "              // almacena un entero. Como la variable `a` guarda un entero \n",
    "              // la asignacióón es válida. \n",
    "    \n",
    "    fprintf (stdout, \"%p %p\\n\", pa, &a);\n",
    "    \n",
    "    *pa = 25;   //Desreferenciar: Accedo al contenido de la dirección guardada \n",
    "                // en pa\n",
    "    \n",
    "      fprintf (stdout, \"%d, %d \\n\", a, *pa); \n",
    "//    fprintf (stdout, \"%d \\n\", *a);\n",
    "     fprintf (stdout, \"%d \\n\", *(&a) );\n",
    "    \n",
    "    return EXIT_SUCCESS;\n",
    "}\n",
    "  "
   ]
  },
  {
   "cell_type": "markdown",
   "metadata": {
    "id": "YViDFtA5W0I6"
   },
   "source": [
    "* y este otro código ¿Son correctas las sentencias comentadas? [Python Tutor](http://pythontutor.com/visualize.html#code=%0A%23include%20%3Cstdlib.h%3E%0A%23include%20%3Cstdio.h%3E%0A%0Aint%20main%20%28int%20argc,%20char%20*argv%5B%5D%29%20%7B%0A%20%20%20%20int%20*pa%3B%0A%20%20%20%20int%20a%20%3D%203%3B%0A%20%20%20%20%0A%20%20%20%20pa%20%3D%20%26a%3B%20%20%0A%20%20%20%20%0A%20%20%20%20*pa%20%3D%2025%3B%0A%20%20%20%20%0A%20%20%20%20fprintf%20%28stdout,%20%22%25d,%20%25d,%20%25d%20%5Cn%22,%20a,%20*pa,%20*pa%20%3D%3D%20a%29%3B%20%0A//%20%20%20%20fprintf%20%28stdout,%20%22%25d%20%5Cn%22,%20*a%29%3B%0A//%20%20%20%20fprintf%20%28stdout,%20%22%25d%20%5Cn%22,%20*%26a%29%3B%0A%20%20%20%20fprintf%20%28stdout,%20%22%26a%20%3D%20%25p%5Cnpa%20%3D%20%25p,%20%25d%5Cn%26pa%20%3D%20%25p%20%25d%5Cn%22,%20%26a,%20pa,%20%0A%20%20%20%20%20%20%20%20%20%20%20%20%20%26a%20%3D%3D%20pa,%20%26pa,%20pa%20%3D%3D%20%26pa%29%3B%0A//%20%20%20%20%26a%20%3D%20pa%3B%0A%0A%20%20%20%20return%20EXIT_SUCCESS%3B%0A%7D&cumulative=false&curInstr=6&heapPrimitives=nevernest&mode=display&origin=opt-frontend.js&py=c&rawInputLstJSON=%5B%5D&textReferences=false)\n",
    "\n"
   ]
  },
  {
   "cell_type": "code",
   "execution_count": null,
   "metadata": {
    "colab": {
     "base_uri": "https://localhost:8080/"
    },
    "executionInfo": {
     "elapsed": 787,
     "status": "ok",
     "timestamp": 1612958399364,
     "user": {
      "displayName": "Programación II",
      "photoUrl": "",
      "userId": "07270898111776996836"
     },
     "user_tz": -60
    },
    "id": "BxXhsngmW0I7",
    "outputId": "c72598b8-04cb-4635-e1b4-bca4113b0bcd"
   },
   "outputs": [],
   "source": [
    "%%writefile pp.c\n",
    "\n",
    "#include <stdlib.h>\n",
    "#include <stdio.h>\n",
    "\n",
    "int main (int argc, char *argv[]) {\n",
    "    int *pa;\n",
    "    int a = 3;\n",
    "    \n",
    "    pa = &a;  \n",
    "    \n",
    "    *pa = 25;\n",
    "    \n",
    "    fprintf (stdout, \"%d, %d, %d \\n\", a, *pa, *pa == a); \n",
    "//    fprintf (stdout, \"%d \\n\", *a);\n",
    "//    fprintf (stdout, \"%d \\n\", *&a);\n",
    "    fprintf (stdout, \"&a = %p\\npa = %p, %d\\n&pa = %p %d\\n\", &a, pa, \n",
    "             &a == pa, &pa, pa == &pa);\n",
    "//    &a = pa;\n",
    "\n",
    "    return EXIT_SUCCESS;\n",
    "}\n",
    "   "
   ]
  },
  {
   "cell_type": "markdown",
   "metadata": {
    "id": "5fyyESyVW0I8"
   },
   "source": [
    "* y este otro código ¿Son correctas las sentencias comentadas? [Python tutor](http://pythontutor.com/visualize.html#code=%0A%23include%20%3Cstdlib.h%3E%0A%23include%20%3Cstdio.h%3E%0A%0Aint%20main%20%28int%20argc,%20char%20*argv%5B%5D%29%20%7B%0A%20%20%20%20int%20*pa,%20*pb%3B%0A%20%20%20%20int%20a%20%3D%203%3B%0A%20%20%20%20%0A//%20%20%20%20*pa%20%3D%205%3B%0A%20%20%20%20a%2B%2B%3B%20%20%0A%0A%20%20%20%20pa%20%3D%20%26a%3B%0A%20%20%20%20pb%20%3D%20pa%3B%0A%20%20%20%20%0A%20%20%20%20fprintf%20%28stdout,%20%22%25d%20%25d%20%25d%5Cn%22,%20a,%20*pa,%20*pb%29%3B%0A%20%20%20%20fprintf%20%28stdout,%20%22pa%20%3D%20%25p%20%5Cnpb%20%3D%20%25p%22,%20pa,%20pb%29%3B%0A%0A//%20%20%20%20%20pa%20%3D%20%26pb%3B%0A//%20%20%20%20%20%26pb%20%3D%20%26pa%3B%0A//%20%20%20%20%20%26a%20%3D%20pa%3B%20%20%20%20%0A%20%20%20%20%0A%20%20%20%20%20return%20EXIT_SUCCESS%3B%0A%7D&cumulative=false&curInstr=0&heapPrimitives=nevernest&mode=display&origin=opt-frontend.js&py=c&rawInputLstJSON=%5B%5D&textReferences=false)"
   ]
  },
  {
   "cell_type": "code",
   "execution_count": null,
   "metadata": {
    "id": "c5Tze7_CW0I8"
   },
   "outputs": [],
   "source": [
    "%%writefile pp.c\n",
    "\n",
    "#include <stdlib.h>\n",
    "#include <stdio.h>\n",
    "\n",
    "int main (int argc, char *argv[]) {\n",
    "    int *pa, *pb;\n",
    "    int a = 3;\n",
    "    \n",
    "//    *pa = 5;\n",
    "    a++;  \n",
    "\n",
    "    pa = &a;\n",
    "    pb = pa;\n",
    "    \n",
    "    fprintf (stdout, \"%d %d %d\\n\", a, *pa, *pb);\n",
    "    fprintf (stdout, \"pa = %p \\npb = %p\", pa, pb);\n",
    "\n",
    "//     pa = &pb;\n",
    "//     &pb = &pa;\n",
    "//     &a = pa;    \n",
    "    \n",
    "     return EXIT_SUCCESS;\n",
    "}\n",
    "   "
   ]
  },
  {
   "cell_type": "markdown",
   "metadata": {
    "id": "P785E6PEW0I9"
   },
   "source": [
    "###  Doble puntero\n",
    "\n",
    "\n",
    "```c\n",
    "\tint **ppa;\n",
    "```\n",
    "\n",
    "¿Cómo interpretas la definición anterior? ¿Qué significa definir `ppa` como un *doble puntero*? \n",
    "Recuerda que estás en C y en C todo tiene un significado muy preciso. Nunca intentes memorizar una expresión sino entenderla.\n",
    "\n",
    "Como siempre debes leer la definición `int **ppa` de derecha a izquierda. El asterisco derecho nos indica que en `ppa` vamos a guardar la dirección de un objeto. ¿De qué *tipo* de objeto? Como el tipo de objeto lo indica todo lo que se encuentra a la izquierda del primer asterisco (contando por la derecha), en este caso en el puntero `ppa` debemos guardar  (asignarle) la dirección de un objeto de tipo *puntero a entero* (a la izquierda de `*` tenemos `int *`). Es decir de un objeto capaz de guardar la dirección de un entero.\n",
    "\n",
    "```c\n",
    "int a;   // objeto que guardará un entero\n",
    "int *pa;   // objeto que guardará la dirección de un entero\n",
    "int **ppa; // objeto que guardará la dirección \n",
    "           // de un objeto que guardará la dirección de un entero\n",
    "\n",
    "a = 3;\n",
    "pa = &a;\n",
    "ppa = &pa; // Al objeto ppa le asignamos la direccióón de pa \n",
    "           // siendo pa es un punetro a entero\n",
    "````\n",
    "\n",
    "* ¿Tienen sentido las siguientes sentencias?¿Es correcto el orden en que aparecen? Revisa los dibujos correspondientes a la memoria para entenderlas. [Python tutorial](http://pythontutor.com/visualize.html#code=%0A%23include%20%3Cstdlib.h%3E%0A%23include%20%3Cstdio.h%3E%0A%0Aint%20main%20%28int%20argc,%20char%20*argv%5B%5D%29%20%7B%0A%20%20%20%20int%20**ppa%20%3D%20NULL%3B%0A%20%20%20%20int%20*pa%20%3D%20NULL%3B%0A%20%20%20%20int%20a%3B%0A%20%20%20%20%0A%20%20%20%20ppa%20%3D%20%26pa%3B%0A%20%20%20%20fprintf%20%28stdout,%20%22%25p%20%20%25p%20%5Cn%22,%20ppa,%20%26pa%29%3B%0A%0A%20%20%20%20pa%20%3D%20%26a%3B%0A%20%20%20%20fprintf%20%28stdout,%20%22%25p%20%20%25p%20%5Cn%22,%20pa,%20%26a%29%3B%0A%20%20%20%20%0A%20%20%20%20a%20%3D%205%3B%0A%20%20%20%20%0A%20%20%20%20fprintf%20%28stdout,%20%22%25d%20%5Cn%22,%20a%29%3B%0A%20%20%20%20fprintf%20%28stdout,%20%22%25d%20%5Cn%22,%20*pa%29%3B%0A%20%20%20%20fprintf%20%28stdout,%20%22%25d%20%5Cn%22,%20**ppa%29%3B%0A%20%20%20%20fprintf%20%28stdout,%20%22%25p%20%25p%20%5Cn%22,%20pa,%20%26a%29%3B%0A%20%20%20%20fprintf%20%28stdout,%20%22%25p%20%25p%20%25p%22,%20%26ppa,%20ppa,%20%26pa%29%3B%0A%20%20%20%20%0A%20%20%20%20return%20EXIT_SUCCESS%3B%0A%20%20%20%20%0A%7D&cumulative=false&curInstr=12&heapPrimitives=nevernest&mode=display&origin=opt-frontend.js&py=c&rawInputLstJSON=%5B%5D&textReferences=false)"
   ]
  },
  {
   "cell_type": "code",
   "execution_count": null,
   "metadata": {
    "id": "pGAktCE-W0I-"
   },
   "outputs": [],
   "source": [
    "%%writefile pp.c\n",
    "\n",
    "#include <stdlib.h>\n",
    "#include <stdio.h>\n",
    "\n",
    "int main (int argc, char *argv[]) {\n",
    "    int **ppa = NULL;\n",
    "    int *pa = NULL;\n",
    "    int a;\n",
    "    \n",
    "    ppa = &pa;\n",
    "    fprintf (stdout, \"%p  %p \\n\", ppa, &pa);\n",
    "\n",
    "    pa = &a;\n",
    "    fprintf (stdout, \"%p  %p \\n\", pa, &a);\n",
    "    \n",
    "    a = 5;\n",
    "    \n",
    "    fprintf (stdout, \"%d \\n\", a);\n",
    "    fprintf (stdout, \"%d \\n\", *pa);\n",
    "    fprintf (stdout, \"%d \\n\", **ppa);\n",
    "    fprintf (stdout, \"%p %p \\n\", pa, &a);\n",
    "    fprintf (stdout, \"%p %p %p\", &ppa, ppa, &pa);\n",
    "    \n",
    "    return EXIT_SUCCESS;\n",
    "    \n",
    "}"
   ]
  },
  {
   "cell_type": "markdown",
   "metadata": {
    "id": "Bv0Q1SVYW0I-"
   },
   "source": [
    "###  Arrays\n",
    "\n",
    "\n",
    "```c\n",
    "\tint a[3];\n",
    "```\n",
    "\n",
    "Con esta declaración estamos indicando que se reserve **memoria secuencial estática** (contigua) para tres objetos. Cada uno de los objetos deberá ser del tipo que tengamos a la izquierda del nombre del array, `a`. En este caso hemos definido una cantidad de memoria suficiente para almacenar *tres objetos de tipo entero*. O con mas precisión: memoria suficiente para tres objetos cada uno con un tamaño suficiente para guardar un entero. \n",
    "\n",
    "Algunas cuestiones importantes que debemos tener en cuenta:\n",
    "\n",
    "* El nombre del array, `a`, indica la dirección del primero de los tres objetos que componen el array.\t\n",
    "\n",
    "* Se puede acceder a los valores almacenados en el array con los corchetes. Con `a[0]` accedemos al valor del entero guardado en el primero de los tres objetos que componen el array.\n",
    "\n",
    "* También se puede acceder a la dirección de cada uno de los objetos del array. Hay dos formas de hacerlo:\n",
    "\n",
    "\t* Con el operador de dirección `&`: Por ejemplo: con  `&a[0]` accederíamos a la dirección del primer elemento del array. La expresión anterior debes interpretarla como `&(a[0])` y **no** como `(&a)[0]` (recuerda que el nombre del array es una dirección) . Por tanto `&a[0]`es equivalente a `a` y la comparación lógica `&a[0] == a` se evalúa como cierta.\n",
    "\n",
    "\t* Utilizando la *aritmética de punteros*: Como `a` es la dirección del primer elemento del array, `a+1` es la dirección del segundo de los elementos del array. Por tanto `a+1 == &a[1]` es cierto.\n",
    "\n",
    "¿Tienen sentido las siguientes sentencias? Haz los dibujos de memoria para entenderlas.\n"
   ]
  },
  {
   "cell_type": "code",
   "execution_count": null,
   "metadata": {
    "id": "R5FLfa_mW0I_"
   },
   "outputs": [],
   "source": [
    "%%writefile pp.c\n",
    "\n",
    "#include <stdlib.h>\n",
    "#include <stdio.h>\n",
    "\n",
    "int main (int argc, char *argv[]) {\n",
    "    int a[] = {0, 1, 2};\n",
    "    int *pa;\n",
    "    int size, i;\n",
    "    \n",
    "    size = sizeof(a) / sizeof (int);\n",
    "    \n",
    "    a[0]++;      // equivalente a: a[0] = a[0] + 1\n",
    "    pa = a - 1; \n",
    "    \n",
    "    *(pa + 1) = 77;\n",
    "//    pa = &a ;\n",
    "  \n",
    "    for (i = 0; i < size; i++)\n",
    "        fprintf (stdout, \"%d , %d\\n\", i, a[i]);\n",
    "    \n",
    "    return EXIT_SUCCESS;\n",
    "}"
   ]
  },
  {
   "cell_type": "markdown",
   "metadata": {
    "id": "ocY6N_ynW0I_"
   },
   "source": [
    "* Mezclando la sintáxis de punteros y arrays: [Python Tutorial](http://pythontutor.com/visualize.html#code=%0A%23include%20%3Cstdlib.h%3E%0A%23include%20%3Cstdio.h%3E%0A%0Aint%20main%20%28int%20argc,%20char%20*argv%5B%5D%29%20%7B%0A%20%20%20%20int%20a%5B3%5D%3B%0A%20%20%20%20int%20*pa%3B%0A%20%20%20%20int%20i%3B%0A%20%20%20%20%0A%20%20%20%20for%20%28i%20%3D%200%3B%20i%20%3C%203%3B%20i%2B%2B%29%20%7B%0A%20%20%20%20%20%20%20%20a%5Bi%5D%20%3D%20i%20*%20100%3B%0A%20%20%20%20%7D%0A%20%20%20%20%0A%20%20%20%20//%20Asigno%20al%20puntero%20pa%20la%20direcci%C3%B3n%20del%20primer%20elemento%20del%20array%0A%20%20%20%20pa%20%3D%20a%3B%0A%20%20%20%20%0A%20%20%20%20for%20%28i%20%3D%200%3B%20i%20%3C%203%3B%20i%2B%2B%29%20%7B%0A%20%20%20%20%20%20%20%20fprintf%20%28stdout,%20%22%25d%20%20%22,%20a%5Bi%5D%29%3B%0A%20%20%20%20%7D%0A%20%20%20%20%0A%20%20%20%20puts%28%22%5CnArray%20con%20formalismo%20de%20puntero%22%29%3B%0A%20%20%20%20for%20%28i%20%3D%200%3B%20i%20%3C%203%3B%20i%2B%2B%29%20%7B%0A%20%20%20%20%20%20%20%20fprintf%20%28stdout,%20%22%25d%20%20%22,%20*%28a%20%2B%20i%29%29%3B%0A%20%20%20%20%7D%0A%20%20%20%20%20%20%20%20%20%20%20%20%20%20%20%20%20%0A%20%20%20%20puts%28%22%5Cn%20Accediendo%20al%20puntero%20con%20formalismo%20de%20puntero%22%29%3B%0A%20%20%20%20for%20%28i%20%3D%200%3B%20i%20%3C%203%3B%20i%2B%2B%29%20%7B%0A%20%20%20%20%20%20%20%20fprintf%20%28stdout,%20%22%25d%20%20%22,%20*%28pa%20%2B%20i%29%29%3B%0A%20%20%20%20%7D%20%20%20%20%0A%20%20%20%20%0A%20%20%20%20puts%28%22%5Cn%20Puntero%20con%20formalismo%20de%20array%22%29%3B%0A%20%20%20%20for%20%28i%20%3D%200%3B%20i%20%3C%203%3B%20i%2B%2B%29%20%7B%0A%20%20%20%20%20%20%20%20fprintf%20%28stdout,%20%22%25d%20%20%22,%20pa%5Bi%5D%29%3B%0A%20%20%20%20%7D%20%20%20%0A%20%20%20%20%0A/*%0A%20%20%20%20//%20Es%20lo%20que%20quieres%3F%0A%20%20%20%20puts%28%22%5Cn%22%29%3B%0A%20%20%20%20for%20%28i%20%3D%200%3B%20i%20%3C%203%3B%20i%2B%2B%29%20%7B%0A%20%20%20%20%20%20%20%20fprintf%20%28stdout,%20%22%25d%20%20%22,%20%28*pa%20%2B%20i%29%20%29%3B%0A%20%20%20%20%7D%20%20%20%0A*/%0A%20%20%20%20%0A%20%20%20%20return%20EXIT_SUCCESS%3B%0A%7D&cumulative=false&curInstr=0&heapPrimitives=nevernest&mode=display&origin=opt-frontend.js&py=c&rawInputLstJSON=%5B%5D&textReferences=false)"
   ]
  },
  {
   "cell_type": "code",
   "execution_count": null,
   "metadata": {
    "id": "qIDuwqmDW0I_"
   },
   "outputs": [],
   "source": [
    "%%writefile pp.c\n",
    "\n",
    "#include <stdlib.h>\n",
    "#include <stdio.h>\n",
    "\n",
    "int main (int argc, char *argv[]) {\n",
    "    int a[3];\n",
    "    int *pa;\n",
    "    int i;\n",
    "    \n",
    "    for (i = 0; i < 3; i++) {\n",
    "        a[i] = i * 100;\n",
    "    }\n",
    "    \n",
    "    // Asigno al puntero pa la dirección del primer elemento del array\n",
    "    pa = a;\n",
    "    \n",
    "    for (i = 0; i < 3; i++) {\n",
    "        fprintf (stdout, \"%d  \", a[i]);\n",
    "    }\n",
    "    \n",
    "    puts(\"\\nArray con formalismo de puntero\");\n",
    "    for (i = 0; i < 3; i++) {\n",
    "        fprintf (stdout, \"%d  \", *(a + i));\n",
    "    }\n",
    "                 \n",
    "    puts(\"\\n Accediendo al puntero con formalismo de puntero\");\n",
    "    for (i = 0; i < 3; i++) {\n",
    "        fprintf (stdout, \"%d  \", *(pa + i));\n",
    "    }    \n",
    "    \n",
    "    puts(\"\\n Accediendo al puntero con formalismo de array\");\n",
    "    for (i = 0; i < 3; i++) {\n",
    "        fprintf (stdout, \"%d  \", pa[i]);\n",
    "    }   \n",
    "    \n",
    "/*\n",
    "    // Es lo que quieres?\n",
    "    puts(\"\\n\");\n",
    "    for (i = 0; i < 3; i++) {\n",
    "        fprintf (stdout, \"%d  \", (*pa + i) );\n",
    "    }   \n",
    "*/\n",
    "    \n",
    "    return EXIT_SUCCESS;\n",
    "}"
   ]
  },
  {
   "cell_type": "markdown",
   "metadata": {
    "id": "IWoHcVrIW0I_"
   },
   "source": [
    "### Arrays de punteros\n",
    "\n",
    "\n",
    "```c\n",
    "\tint *a[3];\n",
    "```\n",
    "\n",
    "La definición anterior no te debería sorprender si la les de derecha a izquierda: Estamos declarando que `a` es un array de tres objetos y que en cada uno de los objetos guardaremos la dirección de un entero. Es decir, cada uno de los objetos del array es un puntero a entero.\n",
    "\n",
    "¿Es correcto el siguiente programa? ¿Cuál sería su salida? Ejecútalo en [Python-tutor](http://pythontutor.com/visualize.html#code=%0A%23include%20%3Cstdlib.h%3E%0A%23include%20%3Cstdio.h%3E%0A%0Aint%20main%20%28int%20argc,%20char%20*argv%5B%5D%29%20%7B%0A%20%20%20%20int%20a%5B3%5D%3B%0A%20%20%20%20int%20*pa%5B3%5D%3B%0A%20%20%20%20int%20i%3B%0A%0A%20%20%20%20for%20%28i%20%3D%200%3B%20i%20%3C%203%3B%20i%2B%2B%29%7B%0A%20%20%20%20%20%20%20%20pa%5Bi%5D%20%3D%20a%20%2B%20i%3B%0A%20%20%20%20%7D%0A%20%20%20%20%0A%20%20%20%20for%20%28i%20%3D%200%3B%20i%20%3C%203%3B%20i%2B%2B%29%7B%0A%20%20%20%20%20%20%20%20*%28*%28pa%20%2B%20i%29%29%20%3D%20100%20*%20i%3B%0A%20%20%20%20%7D%0A%0A%20%20%20%20for%20%28i%20%3D%200%3B%20i%20%3C%203%3B%20i%2B%2B%29%0A%20%20%20%20%20%20%20%20fprintf%20%28stdout,%20%22%25d%20%7C%20%25d%20%20%5Cn%22,%20a%5Bi%5D,%20*pa%5Bi%5D%29%3B%0A%20%20%20%20%0A%20%20%20%20return%20EXIT_SUCCESS%3B%0A%7D%0A%20%20%0A&cumulative=false&curInstr=21&heapPrimitives=nevernest&mode=display&origin=opt-frontend.js&py=c&rawInputLstJSON=%5B%5D&textReferences=false)\n"
   ]
  },
  {
   "cell_type": "code",
   "execution_count": null,
   "metadata": {
    "colab": {
     "base_uri": "https://localhost:8080/"
    },
    "executionInfo": {
     "elapsed": 677,
     "status": "ok",
     "timestamp": 1613508633556,
     "user": {
      "displayName": "Programación II",
      "photoUrl": "",
      "userId": "07270898111776996836"
     },
     "user_tz": -60
    },
    "id": "E4vEQqV_peWB",
    "outputId": "2f9f5bbf-a824-4f94-8b36-86955a0fb58e"
   },
   "outputs": [],
   "source": [
    "%%writefile pp.c\n",
    "\n",
    "#include <stdlib.h>\n",
    "#include <stdio.h>\n",
    "\n",
    "int main (int argc, char *argv[]) {\n",
    "    int a[3];\n",
    "    int *pa[3];\n",
    "    int i;\n",
    "\n",
    "    for (i = 0; i < 3; i++){\n",
    "        pa[i] = a + i;\n",
    "    }\n",
    "    \n",
    "    for (i = 0; i < 3; i++){\n",
    "        *(*(pa + i)) = 100 * i;\n",
    "    }\n",
    "\n",
    "    for (i = 0; i < 3; i++)\n",
    "        fprintf (stdout, \"%d | %d  \\n\", a[i], *pa[i]);\n",
    "    \n",
    "    return EXIT_SUCCESS;\n",
    "}\n",
    "  \n"
   ]
  },
  {
   "cell_type": "markdown",
   "metadata": {
    "id": "GU4KMjuMU7Yb"
   },
   "source": [
    "### Arrays de dos dimensiones\n",
    "\n",
    "```c\n",
    "int a[5][3]`\n",
    "````\n",
    "En una declaración como la anterior tenedemos a pensar en el objeto `a` como una matriz de de 5 filas y 3 columnas. Sin embargo hay que tener cuidado con esta interpretación. La declaración debemos entenderla como un array de 5 objetos donde cada objeto del array es, a su vez, un array de tres objetos de tipo entero. \n",
    "Si observas la salida del programa siguiente verás como la memoria que se ha reservado es secuencial (contigua). La direccióón de memoria de cada casilla del array puede obtenerse a partir de la direccióón de la memoria de la casilla anterior del array sumándole el tamaño en Bytes de un entero `sizeof(int) = 4`.   \n"
   ]
  },
  {
   "cell_type": "code",
   "execution_count": null,
   "metadata": {
    "colab": {
     "base_uri": "https://localhost:8080/"
    },
    "executionInfo": {
     "elapsed": 447,
     "status": "ok",
     "timestamp": 1613557033677,
     "user": {
      "displayName": "Programación II",
      "photoUrl": "",
      "userId": "07270898111776996836"
     },
     "user_tz": -60
    },
    "id": "bIEm8HbSXKMB",
    "outputId": "4d972ff6-e3d9-4718-d8d4-48f2fb96076e"
   },
   "outputs": [],
   "source": [
    "%%writefile pp.c\n",
    "\n",
    "#include <stdio.h>\n",
    "#include <stdlib.h>\n",
    "\n",
    "#define num1 5\n",
    "#define num2 3\n",
    "\n",
    "int main()\n",
    "{\n",
    "    int x[num1][num2];\n",
    "    int i, j;\n",
    "    \n",
    "    // Assign values\n",
    "    for (i=0; i < num1 ; i++) {\n",
    "        for (j=0; j < num2; j++) {\n",
    "            x[i][j] = 100 * i + j ;\n",
    "        }\n",
    "    }\n",
    "    \n",
    "    // Note how the memory is sequential!!!\n",
    "    for (i=0; i < num1 ; i++) \n",
    "        for (j=0; j < num2; j++) \n",
    "            fprintf (stdout, \"(%d,%d):%p \\n\", i, j, &(x[i][j]));\n",
    "    \n",
    "    return EXIT_SUCCESS;\n",
    "}\n"
   ]
  },
  {
   "cell_type": "markdown",
   "metadata": {
    "id": "fnnufvBL6z23"
   },
   "source": [
    "## Funciones\n",
    "\n",
    "* El siguiente programa asigna valores a las variables en el mismo bloque de código donde fueron definidas\n",
    "\n",
    "```c\n",
    "\t#include <stdio.h>\n",
    "\n",
    "\tmain () {\n",
    "\t\tint a;\n",
    "        int b = 5;\n",
    "        int ar[] = {1, 2, 3};\n",
    "        int *pa = NULL;\n",
    "\n",
    "\t\ta = 3;   // asignación dentro del bloque de código donde fue declarada\n",
    "        ar[0] = 55;\n",
    "        pa = ar + 1;\n",
    "\t}\n",
    "\n",
    "```\n",
    "* Las funciones nos permiten asignar valor a una variable fuera del bloque de código donde fue definida. En el siguiente programa a la variable  `a` le asignaremos un valor, primero con la función `fasg1` y posteriormente con la función `fasg2`  [Python tutor](http://pythontutor.com/visualize.html#code=%0A%23include%20%3Cstdlib.h%3E%0A%23include%20%3Cstdio.h%3E%0A%0Aint%20fasg1%20%28%29%3B%20%20%0Avoid%20fasg2%20%28int%20*%29%3B%0A%0Aint%20main%20%28int%20argc,%20char%20*argv%5B%5D%29%20%7B%0A%20%20%20%20%0A%20%20%20%20int%20a%20%3D%203%3B%0A%0A%20%20%20%20fprintf%20%28stdout,%20%22Antes%20de%20llamada%20a%20funciones%3A%20%25d%5Cn%22,%20a%29%3B%0A%0A%20%20%20%20a%20%3D%20fasg1%20%28%29%3B%20%20//%20Por%20retorrno%20de%20la%20funcion%0A%20%20%20%20fprintf%20%28stdout,%20%22Despues%20de%20asignacion%201%3A%20%25d%5Cn%22,%20a%29%3B%0A%0A%20%20%20%20fasg2%20%28%26a%29%3B%20%20//%20%0A%20%20%20%20fprintf%20%28stdout,%20%22Despues%20de%20asignacion%202%3A%20%25d%5Cn%22,%20a%29%3B%0A%0A%20%20%20%20return%20EXIT_SUCCESS%3B%0A%7D%0A%0A//%20Definicion%20funcion%0Aint%20fasg1%20%28%29%20%7B%0A%20%20%20%20int%20b%3B%0A%0A%20%20%20%20b%20%3D%20100%3B%0A%20%20%20%20return%20b%3B%0A%7D%0A%0Avoid%20fasg2%20%28int%20*a%29%20%7B%0A%20%20%20%20*a%20%3D%20200%3B%0A%0A%20%20%20%20return%3B%0A%7D&cumulative=false&curInstr=13&heapPrimitives=nevernest&mode=display&origin=opt-frontend.js&py=c&rawInputLstJSON=%5B%5D&textReferences=false)\n",
    "\n",
    "\n"
   ]
  },
  {
   "cell_type": "code",
   "execution_count": null,
   "metadata": {
    "id": "IJoHJGIY7tz1"
   },
   "outputs": [],
   "source": [
    "%%writefile pp.c\n",
    "\n",
    "#include <stdlib.h>\n",
    "#include <stdio.h>\n",
    "\n",
    "int fasg1 ();  \n",
    "void fasg2 (int *);\n",
    "\n",
    "int main (int argc, char *argv[]) {\n",
    "    \n",
    "    int a = 3;\n",
    "\n",
    "    fprintf (stdout, \"Antes de llamada a funciones: %d\\n\", a);\n",
    "\n",
    "    a = fasg1 ();  // Por retorrno de la funcion\n",
    "    fprintf (stdout, \"Despues de asignacion 1: %d\\n\", a);\n",
    "\n",
    "    fasg2 (&a);  // \n",
    "    fprintf (stdout, \"Despues de asignacion 2: %d\\n\", a);\n",
    "\n",
    "    return EXIT_SUCCESS;\n",
    "}\n",
    "\n",
    "// Definicion funcion\n",
    "int fasg1 () {\n",
    "    int b;\n",
    "\n",
    "    b = 100;\n",
    "    return b;\n",
    "}\n",
    "\n",
    "void fasg2 (int *a) {\n",
    "    *a = 200;\n",
    "\n",
    "    return;\n",
    "}"
   ]
  },
  {
   "cell_type": "markdown",
   "metadata": {
    "id": "by9MBr8U5q7N"
   },
   "source": [
    "* Asignar valor a un **array** fuera del bloque de código donde fue definido [Python-tutor](http://pythontutor.com/visualize.html#code=%0A%23include%20%3Cstdlib.h%3E%0A%23include%20%3Cstdio.h%3E%0A%0Avoid%20fasg%20%28int%20*,%20int%29%3B%20%0A%0Aint%20main%20%28int%20argc,%20char%20*argv%5B%5D%29%20%7B%0A%20%20%20%20%0A%20%20%20%20int%20a%5B%5D%20%3D%20%7B1,%202,%203%7D%3B%0A%20%20%20%20int%20i,%20size%3B%0A%0A%20%20%20%20//%20Obtengo%20el%20tama%C3%B1o%20del%20array%20%28size%20%3D%203%29%0A%20%20%20%20size%20%3D%20sizeof%28a%29%20/%20sizeof%20%28int%29%3B%0A%0A%20%20%20%20puts%20%28%22%5Cn%20Antes%20de%20las%20funciones%22%29%3B%0A%20%20%20%20for%20%28i%20%3D%200%3B%20i%20%3C%20size%3B%20i%20%2B%2B%29%20%7B%0A%20%20%20%20%20%20fprintf%20%28stdout,%20%22%25d%20%22,%20a%5Bi%5D%29%3B%0A%20%20%20%20%7D%0A%0A%20%20%20%20fasg%20%28a,%20size%29%3B%20%20//%20Paso%20una%20direcci%C3%B3%C3%B3n%20-%3E%20la%20direcci%C3%B3n%20del%20primer%20objeto%20del%20array%0A%20%20%20%20%0A%20%20%20%20puts%20%28%22%5Cn%20Despues%20de%20las%20funciones%22%29%3B%0A%20%20%20%20for%20%28i%20%3D%200%3B%20i%20%3C%20size%3B%20i%20%2B%2B%29%20%7B%0A%20%20%20%20%20%20fprintf%20%28stdout,%20%22%25d%20%22,%20a%5Bi%5D%29%3B%0A%20%20%20%20%7D%0A%0A%20%20%20%20return%20EXIT_SUCCESS%3B%0A%7D%0A%0Avoid%20fasg%20%28int%20*b,%20int%20size%29%20%7B%0A%20%20%20%20int%20i%3B%0A%0A%20%20%20%20for%20%28i%20%3D%200%3B%20i%20%3C%20size%3B%20i%20%2B%2B%29%20%7B%0A%20%20%20%20%20%20%20%20b%5Bi%5D%20%3D%20100%20*%20i%3B%0A%20%20%20%20%7D%0A%20%20%20%20%0A%20%20%20%20return%3B%0A%7D%0A%0A&cumulative=false&curInstr=22&heapPrimitives=nevernest&mode=display&origin=opt-frontend.js&py=c&rawInputLstJSON=%5B%5D&textReferences=false)\n",
    "\n",
    "\n",
    "\n"
   ]
  },
  {
   "cell_type": "code",
   "execution_count": null,
   "metadata": {
    "id": "rBH0nb0f-jff"
   },
   "outputs": [],
   "source": [
    "%%writefile pp.c\n",
    "\n",
    "#include <stdlib.h>\n",
    "#include <stdio.h>\n",
    "\n",
    "void fasg (int *, int); \n",
    "\n",
    "int main (int argc, char *argv[]) {\n",
    "    \n",
    "    int a[] = {1, 2, 3};\n",
    "    int i, size;\n",
    "\n",
    "    // Obtengo el tamaño del array (size = 3)\n",
    "    size = sizeof(a) / sizeof (int);\n",
    "\n",
    "    puts (\"\\n Antes de las funciones\");\n",
    "    for (i = 0; i < size; i ++) {\n",
    "      fprintf (stdout, \"%d \", a[i]);\n",
    "    }\n",
    "\n",
    "    fasg (a, size);  // Paso una direccióón -> la dirección del primer objeto del array\n",
    "    \n",
    "    puts (\"\\n Despues de las funciones\");\n",
    "    for (i = 0; i < size; i ++) {\n",
    "      fprintf (stdout, \"%d \", a[i]);\n",
    "    }\n",
    "\n",
    "    return EXIT_SUCCESS;\n",
    "}\n",
    "\n",
    "void fasg (int *b, int size) {\n",
    "    int i;\n",
    "\n",
    "    for (i = 0; i < size; i ++) {\n",
    "        b[i] = 100 * i;\n",
    "    }\n",
    "    \n",
    "    return;\n",
    "}\n",
    "\n"
   ]
  },
  {
   "cell_type": "markdown",
   "metadata": {
    "id": "EcFvgl1SAylV"
   },
   "source": [
    "**Analiza:** \n",
    "\n",
    "1. Uno de los argumentos de entrada de la función `fasg` del código anterior era el tamaño del array al cúal queríamos asignar valores. ¿Es necesario pasar a la función el tamaño del array o podríamos haberlo calcularlo dentro de la función por ejemplo con el operador `sizeof` o con la función de la biblioteca `strlen`?\n",
    " \n",
    " ```c\n",
    "void fasg (int *b) {\n",
    "    int i;\n",
    "    int size;\n",
    "\n",
    "    // size = sizeof (b);\n",
    "    // size = strlen (b);\n",
    "\n",
    "    for (i = 0; i < size; i ++) {\n",
    "        b[i] = 100 * i;\n",
    "    }\n",
    "    \n",
    "    return;\n",
    "}\n",
    "```\n",
    "\n",
    "2. En vez de pasar la dirección del array que queremos modificar como hemos hecho en la función `fasg`  ¿sería posible para asignar nuevos valores al array hacer una función que nos devolviese los valores del array por retorno? Es decir, algo parecido al siguiente código:\n",
    "\n",
    " ```c\n",
    "int main (int argc, char *argv[]) {\n",
    "    \n",
    "    int a[] = {1, 2, 3};\n",
    "    int i, size;\n",
    "\n",
    "    // Obtengo el tamaño del array (size = 3)\n",
    "    size = sizeof(a) / sizeof (int);\n",
    "\n",
    "    puts (\"\\n Antes de las funciones\");\n",
    "    for (i = 0; i < size; i ++) {\n",
    "      fprintf (stdout, \"%d \", a[i]);\n",
    "    }\n",
    "\n",
    "    a = fasg (...........);  \n",
    "        :\n",
    "        :\n",
    "        : \n",
    "}\n",
    "```\n",
    "**IMPORTANTE:** \n",
    "\n",
    "Para asignar un valor a un objeto fuera del bloque del que ha sido declarado es necesario crear una función. \n",
    "Como regla general, en los parámetros de la función *debemos pasar* la dirección del objeto del cual queremos modificar su valor. Algunos objetos de `C`, como los arrays, necesariamente deben modificarse de esta forma ya que **NO** admiten la modificación por retorno de la función.\n",
    "\n",
    "\n",
    "\n"
   ]
  },
  {
   "cell_type": "markdown",
   "metadata": {
    "id": "1QmH5-NGAcxS"
   },
   "source": [
    "**EJERCICIO:** \n",
    "Completa la declaración, definición y llmada de la función *fSwapp* del código siguiente"
   ]
  },
  {
   "cell_type": "code",
   "execution_count": null,
   "metadata": {
    "id": "sRZObwR-9WYO"
   },
   "outputs": [],
   "source": [
    "%%writefile pp.c\n",
    "\n",
    "#include <stdlib.h>\n",
    "#include <stdio.h>\n",
    "\n",
    "// void fSwapp (....., ....); \n",
    "\n",
    "int main (int argc, char *argv[]) {\n",
    "    char c1[] = {'a', 'b', 'c'};\n",
    "    char c2[] = {'h', 'i', 'k'};\n",
    "    char *pc1, *pc2;\n",
    "    int i;\n",
    "\n",
    "    pc1 = c1;\n",
    "    pc2 = c2;\n",
    "    fprintf (stdout, \"%p %p \\n %p %p\", pc1, c1, pc2, c2);\n",
    "\n",
    "    puts(\"pc1:\");\n",
    "    for (i=0; i < 3; i++) {\n",
    "      printf (\"%c  \", pc1[i]);\n",
    "    }\n",
    "\n",
    "    puts(\"\\npc2:\");\n",
    "    for (i=0; i < 3; i++) {\n",
    "      printf (\"%c  \", pc2[i]);\n",
    "    }\n",
    "\n",
    "    /* \n",
    "    * Después de ejecutar la función fSwapp quiero que en pc1 se guarde\n",
    "    * la dirección del array c2  y en pc2 la del array c1\n",
    "    */\n",
    "\n",
    "    // fSwapp ( ..., ....);\n",
    "\n",
    "    puts(\"\\npc1 tras el intercambio:\");\n",
    "    for (i=0; i < 3; i++) {\n",
    "      printf (\"%c  \", pc1[i]);\n",
    "    }\n",
    "\n",
    "    puts(\"\\npc2 tras el intercambio:\");\n",
    "    for (i=0; i < 3; i++) {\n",
    "      printf (\"%c  \", pc2[i]);\n",
    "    } \n",
    "    return EXIT_SUCCESS;\n",
    "}\n"
   ]
  },
  {
   "cell_type": "markdown",
   "metadata": {
    "id": "oGZNyHrM1TWX"
   },
   "source": [
    "**Solución:**\n",
    "\n",
    "[Python Tutor](http://pythontutor.com/visualize.html#code=%23include%20%3Cstdlib.h%3E%0A%23include%20%3Cstdio.h%3E%0A%0A%20void%20fSwapp%20%28char%20**,%20char%20**%29%3B%20%0A%0Aint%20main%20%28int%20argc,%20char%20*argv%5B%5D%29%20%7B%0A%20%20%20%20char%20c1%5B%5D%20%3D%20%7B'a',%20'b',%20'c'%7D%3B%0A%20%20%20%20char%20c2%5B%5D%20%3D%20%7B'h',%20'i',%20'k'%7D%3B%0A%20%20%20%20char%20*pc1%20%3D%20NULL,%20*pc2%20%3D%20NULL%3B%0A%20%20%20%20int%20i%3B%0A%0A%20%20%20%20pc1%20%3D%20c1%3B%0A%20%20%20%20pc2%20%3D%20c2%3B%0A%20%20%20%20puts%28%22Direcciones%5Cn%22%29%3B%0A%20%20%20%20fprintf%20%28stdout,%20%22%25p%20%25p%20%5Cn%25p%20%25p%5Cn%22,%20pc1,%20c1,%20pc2,%20c2%29%3B%0A%0A%20%20%20%20puts%28%22pc1%3A%22%29%3B%0A%20%20%20%20for%20%28i%3D0%3B%20i%20%3C%203%3B%20i%2B%2B%29%20%7B%0A%20%20%20%20%20%20printf%20%28%22%25c%20%20%22,%20pc1%5Bi%5D%29%3B%0A%20%20%20%20%7D%0A%0A%20%20%20%20puts%28%22%5Cnpc2%3A%22%29%3B%0A%20%20%20%20for%20%28i%3D0%3B%20i%20%3C%203%3B%20i%2B%2B%29%20%7B%0A%20%20%20%20%20%20printf%20%28%22%25c%20%20%22,%20pc2%5Bi%5D%29%3B%0A%20%20%20%20%7D%0A%0A%20%20%20%20/*%20%0A%20%20%20%20*%20Despu%C3%A9s%20de%20ejecutar%20la%20funci%C3%B3n%20fSwapp%20quiero%20que%20en%20pc1%20se%20guerde%0A%20%20%20%20*%20la%20direcci%C3%B3n%20del%20array%20c2%20%20y%20en%20pc2%20la%20del%20array%20c1%0A%20%20%20%20*/%0A%0A%20%20%20%20fSwapp%20%28%26pc1,%20%26pc2%29%3B%0A%0A%20%20%20%20puts%28%22%5Cnpc1%20tras%20el%20intercambio%3A%22%29%3B%0A%20%20%20%20for%20%28i%3D0%3B%20i%20%3C%203%3B%20i%2B%2B%29%20%7B%0A%20%20%20%20%20%20printf%20%28%22%25c%20%20%22,%20pc1%5Bi%5D%29%3B%0A%20%20%20%20%7D%0A%0A%20%20%20%20puts%28%22%5Cnpc2%20tras%20el%20intercambio%3A%22%29%3B%0A%20%20%20%20for%20%28i%3D0%3B%20i%20%3C%203%3B%20i%2B%2B%29%20%7B%0A%20%20%20%20%20%20printf%20%28%22%25c%20%20%22,%20pc2%5Bi%5D%29%3B%0A%20%20%20%20%7D%20%0A%20%20%20%20return%20EXIT_SUCCESS%3B%0A%7D%0A%0Avoid%20fSwapp%20%28char%20**p1,%20char%20**p2%29%20%7B%0A%20%20%20%20char%20*buff%3B%0A%0A%20%20%20%20buff%20%3D%20*p1%3B%0A%20%20%20%20*p1%20%3D%20*p2%3B%0A%20%20%20%20*p2%20%3D%20buff%3B%0A%7D&cumulative=false&curInstr=31&heapPrimitives=nevernest&mode=display&origin=opt-frontend.js&py=c_gcc9.3.0&rawInputLstJSON=%5B%5D&textReferences=false)"
   ]
  },
  {
   "cell_type": "code",
   "execution_count": null,
   "metadata": {
    "colab": {
     "base_uri": "https://localhost:8080/"
    },
    "executionInfo": {
     "elapsed": 582,
     "status": "ok",
     "timestamp": 1613581641927,
     "user": {
      "displayName": "Programación II",
      "photoUrl": "",
      "userId": "07270898111776996836"
     },
     "user_tz": -60
    },
    "id": "bvqnYcG-1YVf",
    "outputId": "dd5675aa-003f-4527-cc98-7bd9b4094648"
   },
   "outputs": [],
   "source": [
    "%%writefile pp.c\n",
    "\n",
    "#include <stdlib.h>\n",
    "#include <stdio.h>\n",
    "\n",
    " void fSwapp (char **, char **); \n",
    "\n",
    "int main (int argc, char *argv[]) {\n",
    "    char c1[] = {'a', 'b', 'c'};\n",
    "    char c2[] = {'h', 'i', 'k'};\n",
    "    char *pc1 = NULL, *pc2 = NULL;\n",
    "    int i;\n",
    "\n",
    "    pc1 = c1;\n",
    "    pc2 = c2;\n",
    "    puts(\"Direcciones\\n\");\n",
    "    fprintf (stdout, \"%p %p \\n%p %p\\n\", pc1, c1, pc2, c2);\n",
    "\n",
    "    puts(\"pc1:\");\n",
    "    for (i=0; i < 3; i++) {\n",
    "      printf (\"%c  \", pc1[i]);\n",
    "    }\n",
    "\n",
    "    puts(\"\\npc2:\");\n",
    "    for (i=0; i < 3; i++) {\n",
    "      printf (\"%c  \", pc2[i]);\n",
    "    }\n",
    "\n",
    "    /* \n",
    "    * Después de ejecutar la función fSwapp quiero que en pc1 se guarde\n",
    "    * la dirección del array c2  y en pc2 la del array c1\n",
    "    */\n",
    "\n",
    "    fSwapp (&pc1, &pc2);\n",
    "\n",
    "    puts(\"\\npc1 tras el intercambio:\");\n",
    "    for (i=0; i < 3; i++) {\n",
    "      printf (\"%c  \", pc1[i]);\n",
    "    }\n",
    "\n",
    "    puts(\"\\npc2 tras el intercambio:\");\n",
    "    for (i=0; i < 3; i++) {\n",
    "      printf (\"%c  \", pc2[i]);\n",
    "    } \n",
    "    return EXIT_SUCCESS;\n",
    "}\n",
    "\n",
    "void fSwapp (char **p1, char **p2) {\n",
    "    char *buff;\n",
    "\n",
    "    buff = *p1;\n",
    "    *p1 = *p2;\n",
    "    *p2 = buff;\n",
    "}"
   ]
  },
  {
   "cell_type": "markdown",
   "metadata": {
    "id": "gD7EHaJ-AjaU"
   },
   "source": [
    "## Memoria dinámica\n",
    "\n",
    "Analiza los siguientes códigos. Aplica los conceptos que hemos visto sobre asignaciones de valores a variables fuera del bloque de código donde fueron definidas. Debes convencerte de que lo entiendes **perfectamente**. La lógica de `C` es aplastante. No intentes memorizar reglas mnemotécnicas!!\n",
    "\n",
    "Verifica tus conclusiones con ayuda de la herramienta Python Tutor.\n",
    "Debes verificar además que tu programa libera correctamente la memoria reservada. Utiliza para ello la herramienta Valgrind de Linux \n",
    "\n",
    "* **Versión 1:**\n",
    "Se asigna valor a la variable `pa` dentro del bloque de cóódigo donde fue definida. \n",
    "\n",
    "  Tanto la asignación como la liberación de la memoria es correcta\n",
    "[Python tutor](http://pythontutor.com/visualize.html#code=%0A%23include%20%3Cstdlib.h%3E%0A%23include%20%3Cstdio.h%3E%0A%0Aint%20main%20%28int%20argc,%20char%20*argv%5B%5D%29%20%7B%0A%20%20%20%20%0A%20%20%20%20int%20*pa%20%3D%20NULL%3B%0A%0A%20%20%20%20pa%20%3D%20%28int%20*%29%20malloc%20%28sizeof%28int%29%29%3B%0A%20%20%20%20if%20%28pa%20%3D%3D%20NULL%29%20%7B%0A%20%20%20%20%20%20%20%20puts%20%28%22no%20memory%22%29%3B%0A%20%20%20%20%20%20%20%20return%20EXIT_FAILURE%3B%0A%20%20%20%20%7D%0A%0A%20%20%20%20*pa%20%3D%20152%3B%0A%20%20%20%20printf%20%28%22Valor%3A%20%25d%20%20Direcci%C3%B3n%3A%20%25p%22,%20*pa,%20pa%29%3B%0A%0A%20%20%20%20//free%20resources%0A%20%20%20%20free%20%28pa%29%3B%0A%20%20%20%20return%20EXIT_SUCCESS%3B%0A%7D&cumulative=false&curInstr=8&heapPrimitives=nevernest&mode=display&origin=opt-frontend.js&py=c&rawInputLstJSON=%5B%5D&textReferences=false)\n"
   ]
  },
  {
   "cell_type": "code",
   "execution_count": null,
   "metadata": {
    "id": "1lSpKDlmCMDI"
   },
   "outputs": [],
   "source": [
    "%%writefile pp.c\n",
    "\n",
    "#include <stdlib.h>\n",
    "#include <stdio.h>\n",
    "\n",
    "int main (int argc, char *argv[]) {\n",
    "    \n",
    "    int *pa = NULL;\n",
    "\n",
    "    pa = (int *) malloc (sizeof(int));\n",
    "    if (pa == NULL) {\n",
    "        puts (\"no memory\");\n",
    "        return EXIT_FAILURE;\n",
    "    }\n",
    "\n",
    "    *pa = 152;\n",
    "    printf (\"Valor: %d  Dirección: %p\", *pa, pa);\n",
    "\n",
    "    //free resources\n",
    "    free (pa);\n",
    "    return EXIT_SUCCESS;\n",
    "}"
   ]
  },
  {
   "cell_type": "markdown",
   "metadata": {
    "id": "IkkcIzZ5FNeN"
   },
   "source": [
    "* **Versión 2:** La reserva de memoria la realizamos fuera de la función *main* . \n",
    "\n",
    "  La función `f1`  devuelve *por su retorno* la dirección de la memoria reservada [Python tutor](http://pythontutor.com/visualize.html#code=%0A%23include%20%3Cstdlib.h%3E%0A%23include%20%3Cstdio.h%3E%0A%0A%0Aint%20*%20f1%20%28%29%3B%0A%0Aint%20main%20%28int%20argc,%20char%20*argv%5B%5D%29%20%7B%0A%20%20%20%20int%20*pa%20%3D%20NULL%3B%0A%0A%20%20%20%20pa%20%3D%20f1%28%29%3B%0A%20%20%20%20if%20%28!pa%29%0A%20%20%20%20%20%20return%20EXIT_FAILURE%3B%0A%20%20%20%20%0A%20%20%20%20*pa%20%3D%20152%3B%0A%20%20%20%20printf%20%28%22Valor%3A%20%25d%20%20Direcci%C3%B3n%3A%20%25p%22,%20*pa,%20pa%29%3B%0A%0A%20%20%20%20//free%20resources%0A%20%20%20%20free%20%28pa%29%3B%0A%20%20%20%20return%20EXIT_SUCCESS%3B%0A%7D%0A%0Aint%20*f1%20%28%29%20%7B%0A%20%20%20%20int%20*pa%20%3D%20NULL%3B%0A%0A%20%20%20%20pa%20%3D%20%28int*%29%20malloc%20%28sizeof%28int%29%29%3B%0A%20%20%20%20return%20pa%3B%0A%7D%20%0A&cumulative=false&curInstr=11&heapPrimitives=nevernest&mode=display&origin=opt-frontend.js&py=c&rawInputLstJSON=%5B%5D&textReferences=false)"
   ]
  },
  {
   "cell_type": "code",
   "execution_count": null,
   "metadata": {
    "id": "CypGz4DDFLLj"
   },
   "outputs": [],
   "source": [
    "%%writefile pp.c\n",
    "\n",
    "#include <stdlib.h>\n",
    "#include <stdio.h>\n",
    "\n",
    "\n",
    "int * f1 ();\n",
    "\n",
    "int main (int argc, char *argv[]) {\n",
    "    int *pa = NULL;\n",
    "\n",
    "    pa = f1();\n",
    "    if (!pa)\n",
    "      return EXIT_FAILURE;\n",
    "    \n",
    "    *pa = 152;\n",
    "    printf (\"Valor: %d  Dirección: %p\", *pa, pa);\n",
    "\n",
    "    //free resources\n",
    "    free (pa);\n",
    "    return EXIT_SUCCESS;\n",
    "}\n",
    "\n",
    "int *f1 () {\n",
    "    int *pa = NULL;\n",
    "\n",
    "    pa = (int*) malloc (sizeof(int));\n",
    "    return pa;\n",
    "} \n"
   ]
  },
  {
   "cell_type": "markdown",
   "metadata": {
    "id": "5nslEkWdHKKM"
   },
   "source": [
    "\n",
    "**Versión 3:**\n",
    "La reserva de memoria la realizamos fuera de la función main.\n",
    "La función `f2` *recibe* la dirección del puntero `pa`. La memoria que se reserva en `f2` se le asigna\n",
    "al contenido de la dirección recibida.  [Python-tutor](http://pythontutor.com/visualize.html#code=%0A%23include%20%3Cstdlib.h%3E%0A%23include%20%3Cstdio.h%3E%0A%0A%0Avoid%20f2%20%28int%20**pa%29%3B%0A%0Aint%20main%20%28int%20argc,%20char%20*argv%5B%5D%29%20%7B%0A%20%20%20%20int%20*pa%20%3D%20NULL%3B%0A%0A%20%20%20%20f2%20%28%26pa%29%3B%0A%20%20%20%20if%20%28!pa%29%20return%20EXIT_FAILURE%3B%0A%0A%20%20%20%20*pa%20%3D%20152%3B%0A%20%20%20%20printf%20%28%22Valor%3A%20%25d%20%20Direcci%C3%B3n%3A%20%25p%22,%20*pa,%20pa%29%3B%0A%0A%20%20%20%20//free%20resources%0A%20%20%20%20free%20%28pa%29%3B%0A%20%20%20%20return%20EXIT_SUCCESS%3B%0A%7D%0A%0A%20void%20f2%20%28int%20**pa%29%20%7B%0A%20%20%0A%20%20%20%20*pa%20%3D%20%28int*%29%20malloc%20%28sizeof%28int%29%29%3B%0A%20%20%20%20return%3B%0A%7D%20%0A&cumulative=false&curInstr=7&heapPrimitives=nevernest&mode=display&origin=opt-frontend.js&py=c&rawInputLstJSON=%5B%5D&textReferences=false)"
   ]
  },
  {
   "cell_type": "code",
   "execution_count": null,
   "metadata": {
    "id": "27g4hzZwHWVp"
   },
   "outputs": [],
   "source": [
    "%%writefile pp.c\n",
    "\n",
    "#include <stdlib.h>\n",
    "#include <stdio.h>\n",
    "\n",
    "\n",
    "void f2 (int **pa);\n",
    "\n",
    "int main (int argc, char *argv[]) {\n",
    "    int *pa = NULL;\n",
    "\n",
    "    f2 (&pa);\n",
    "    if (!pa) return EXIT_FAILURE;\n",
    "\n",
    "    *pa = 152;\n",
    "    printf (\"Valor: %d  Dirección: %p\", *pa, pa);\n",
    "\n",
    "    //free resources\n",
    "    free (pa);\n",
    "    return EXIT_SUCCESS;\n",
    "}\n",
    "\n",
    " void f2 (int **pa) {\n",
    "  \n",
    "    *pa = (int*) malloc (sizeof(int));\n",
    "    return;\n",
    "} \n"
   ]
  },
  {
   "cell_type": "markdown",
   "metadata": {
    "id": "plEjqBlVQp0o"
   },
   "source": [
    "\n",
    "* **Versión 3b (incorrecta)**\n",
    "\n"
   ]
  },
  {
   "cell_type": "code",
   "execution_count": null,
   "metadata": {
    "colab": {
     "base_uri": "https://localhost:8080/"
    },
    "executionInfo": {
     "elapsed": 630,
     "status": "ok",
     "timestamp": 1613513170068,
     "user": {
      "displayName": "Programación II",
      "photoUrl": "",
      "userId": "07270898111776996836"
     },
     "user_tz": -60
    },
    "id": "7n1DLdPcQnpV",
    "outputId": "dcd85a11-cf74-4e04-cafb-d250f186582c"
   },
   "outputs": [],
   "source": [
    "%%writefile pp.c\n",
    "\n",
    "#include <stdlib.h>\n",
    "#include <stdio.h>\n",
    "\n",
    "\n",
    "int* f2 ();\n",
    "\n",
    "int main (int argc, char *argv[]) {\n",
    "    int *pa = NULL;\n",
    "\n",
    "    /* Why is not ok? Look the warning:\n",
    "    *  warning: function returns address of local variable */\n",
    "    pa = f2 ();\n",
    "    if (!pa) return EXIT_FAILURE;\n",
    "\n",
    "    *pa = 152;\n",
    "    printf (\"Valor: %d  Dirección: %p\\n\", *pa, pa);\n",
    "\n",
    "    //free resources\n",
    "    free (pa);\n",
    "    return EXIT_SUCCESS;\n",
    "}\n",
    "\n",
    " int* f2 () {\n",
    "     int a;\n",
    "     \n",
    "     return &a;\n",
    "} "
   ]
  },
  {
   "cell_type": "markdown",
   "metadata": {
    "id": "BAxs7rlpUnmR"
   },
   "source": [
    "**Version 3c (Incorrecta)** [Python tutor](http://pythontutor.com/visualize.html#code=%0A%23include%20%3Cstdlib.h%3E%0A%23include%20%3Cstdio.h%3E%0A%0Avoid%20f3%20%28int%20**%29%3B%0A%0Aint%20main%20%28int%20argc,%20char%20*argv%5B%5D%29%20%7B%0A%20%20%20%20int%20*pa%20%3D%20NULL%3B%0A%0A%20%20%20%20/*%20Is%20ok%3F%20%20*/%0A%20%20%20%20f3%20%28%26pa%29%3B%0A%20%20%20%20if%20%28!pa%29%20return%20EXIT_FAILURE%3B%0A%0A%20%20%20%20*pa%20%3D%20152%3B%0A%20%20%20%20printf%20%28%22Valor%3A%20%25d%20%20Direcci%C3%B3n%3A%20%25p%22,%20*pa,%20pa%29%3B%0A%0A%20%20%20%20//free%20resources%0A%20%20%20%20free%20%28pa%29%3B%0A%20%20%20%20return%20EXIT_SUCCESS%3B%0A%7D%0A%0Avoid%20f3%20%28int%20**p%29%20%7B%0A%20%20%20%20int%20a%3B%0A%0A%20%20%20%20*p%20%3D%20%26a%3B%0A%20%20%20%20return%3B%0A%7D%0A&cumulative=false&curInstr=10&heapPrimitives=nevernest&mode=display&origin=opt-frontend.js&py=c&rawInputLstJSON=%5B%5D&textReferences=false)\n",
    "\n",
    "\n"
   ]
  },
  {
   "cell_type": "code",
   "execution_count": null,
   "metadata": {
    "colab": {
     "base_uri": "https://localhost:8080/"
    },
    "executionInfo": {
     "elapsed": 625,
     "status": "ok",
     "timestamp": 1613513200122,
     "user": {
      "displayName": "Programación II",
      "photoUrl": "",
      "userId": "07270898111776996836"
     },
     "user_tz": -60
    },
    "id": "9pqeYii2TTj4",
    "outputId": "5a0124ce-09e3-4d4f-f773-4f34df6844d0"
   },
   "outputs": [],
   "source": [
    "%%writefile pp.c\n",
    "\n",
    "#include <stdlib.h>\n",
    "#include <stdio.h>\n",
    "\n",
    "void f3 (int **);\n",
    "\n",
    "int main (int argc, char *argv[]) {\n",
    "    int *pa = NULL;\n",
    "\n",
    "    /* Is ok?  */\n",
    "    f3 (&pa);\n",
    "    if (!pa) return EXIT_FAILURE;\n",
    "\n",
    "    *pa = 152;\n",
    "    printf (\"Valor: %d  Dirección: %p\", *pa, pa);\n",
    "\n",
    "    //free resources\n",
    "    free (pa);\n",
    "    return EXIT_SUCCESS;\n",
    "}\n",
    "\n",
    "void f3 (int **p) {\n",
    "    int a;\n",
    "\n",
    "    *p = &a;\n",
    "    return;\n",
    "}\n"
   ]
  },
  {
   "cell_type": "markdown",
   "metadata": {
    "id": "o-q99ZTFuvou"
   },
   "source": [
    "\n",
    "### Array de dos dimensiones (matriz) con memoria dinámica  \n",
    "\n",
    "En los próximos dos códigos vamos a declarar una matriz dinámicamente. Una vez reservada la memoria en ambos accederemos con la notación de array de dos dimensiones `x[i][j]`"
   ]
  },
  {
   "cell_type": "markdown",
   "metadata": {
    "id": "xwiHAReP6CMD"
   },
   "source": [
    "\n",
    "#### Memoria dinámica no secuencial\n",
    "\n",
    "No dejes de visualizar como se está gestionando la memoria con [Python Tutor](http://pythontutor.com/visualize.html#code=%23include%20%3Cstdlib.h%3E%0A%23include%20%3Cstdio.h%3E%0A%0Aint%20main%28%29%20%7B%0A%20%20%20%20int%20i,%20j,%20num1,%20num2%3B%0A%20%20%20%20int%20**x%3B%0A%20%20%20%20%0A%20%20%20%20num1%20%3D%205%3B%0A%20%20%20%20num2%20%3D%203%3B%0A%20%20%20%20%0A%20%20%20%20//%20Alloc%20memory%0A%20%20%20%20x%20%3D%20%28int%20**%29%20malloc%20%28num1%20*%20sizeof%28int%20*%29%29%3B%0A%20%20%20%20for%20%28i%20%3D%200%3B%20i%20%3C%20num1%3B%20i%2B%2B%29%20%7B%0A%20%20%20%20%20%20%20%20x%5Bi%5D%20%3D%20%28int%20*%29%20malloc%20%28num2%20*%20sizeof%28int%29%29%3B%0A%20%20%20%20%7D%0A%20%20%20%20%0A%20%20%20%20//%20Assign%20values%0A%20%20%20%20for%20%28i%20%3D%200%3B%20i%20%3C%20num1%20%3B%20i%2B%2B%29%20%7B%0A%20%20%20%20%20%20%20%20for%28j%20%3D%200%3B%20j%20%3C%20num2%3B%20j%2B%2B%29%20%7B%0A%20%20%20%20%20%20%20%20%20%20%20%20x%5Bi%5D%5Bj%5D%20%3D%20i*100%20%2B%20j%3B%0A%20%20%20%20%20%20%20%20%7D%0A%20%20%20%20%7D%0A%20%20%20%20%0A%20%20%20%20//%20Free%20memory%0A%20%20%20%20for%20%28i%20%3D%200%3B%20i%20%3C%20num1%3B%20i%2B%2B%29%20%0A%20%20%20%20%20%20%20%20free%28%20x%5Bi%5D%29%3B%0A%20%20%20%20free%28x%29%3B%20%20%20%20%20%20%20%20%20%20%0A%7D%0A&cumulative=false&curInstr=68&heapPrimitives=nevernest&mode=display&origin=opt-frontend.js&py=c_gcc9.3.0&rawInputLstJSON=%5B%5D&textReferences=false)\n",
    "\n",
    "Notad como aunque hayamos reservado memoria para una *matriz* de dimensión `num1 x num2`, y podamos acceder a ella con la notación `x[i][j]`, la memoria no es contigua como si ocurría cuando declarábamos un array de dos dimensiones con memoria estática."
   ]
  },
  {
   "cell_type": "code",
   "execution_count": null,
   "metadata": {
    "colab": {
     "base_uri": "https://localhost:8080/"
    },
    "executionInfo": {
     "elapsed": 831,
     "status": "ok",
     "timestamp": 1613512126556,
     "user": {
      "displayName": "Programación II",
      "photoUrl": "",
      "userId": "07270898111776996836"
     },
     "user_tz": -60
    },
    "id": "UzV2MNi4utVu",
    "outputId": "f154e936-2e49-4a28-f10e-2cd790396f95"
   },
   "outputs": [],
   "source": [
    "%%writefile pp.c\n",
    "\n",
    "#include <stdlib.h>\n",
    "#include <stdio.h>\n",
    "#include <stdbool.h>\n",
    "\n",
    "int main() {\n",
    "    int i, j, num1, num2;\n",
    "    int **x;\n",
    "    bool bol = true;\n",
    "    \n",
    "    num1 = 5;\n",
    "    num2 = 3;\n",
    "    \n",
    "    // Alloc memory\n",
    "    x = (int **) malloc (num1 * sizeof(int *));\n",
    "    if (!x) \n",
    "      return EXIT_FAILURE;\n",
    "\n",
    "    for (i = 0; i < num1 && bol == true; i++) {\n",
    "        x[i] = (int *) malloc (num2 * sizeof(int));\n",
    "        if (x[i] == NULL)\n",
    "          return bol = false;\n",
    "    }\n",
    "    \n",
    "    // Assign values\n",
    "    for (i = 0; i < num1 && bol == true; i++) {\n",
    "        for(j = 0; j < num2; j++) {\n",
    "            x[i][j] = i*100 + j;\n",
    "        }\n",
    "    }\n",
    "    \n",
    "    // Free memory\n",
    "    for (i = 0; i < num1; i++) \n",
    "        free( x[i]);\n",
    "    free(x);   \n",
    "\n",
    "    if (bol == false)\n",
    "      return EXIT_FAILURE;\n",
    "\n",
    "    return EXIT_SUCCESS;       \n",
    "}\n"
   ]
  },
  {
   "cell_type": "markdown",
   "metadata": {
    "id": "IfpWF_pV1eMO"
   },
   "source": [
    "#### Memoria dinámica secuencial\n",
    "Es importante que compares como se gestiona la memoria en este ejercicio con el anterior\n",
    "[Python Tutor](http://pythontutor.com/visualize.html#code=%0A%0A%23include%20%3Cstdlib.h%3E%0A%23include%20%3Cstdio.h%3E%0A%0A%0Aint%20main%28%29%20%7B%0A%20%20%20%20int%20i,%20j,%20num1,%20num2%3B%0A%20%20%20%20int%20**x%3B%0A%20%20%20%20%0A%20%20%20%20num1%20%3D%205%3B%0A%20%20%20%20num2%20%3D%203%3B%0A%20%20%20%20%0A%20%20%20%20//%20Alloc%20memory%20for%20the%20pointers%0A%20%20%20%20x%20%3D%20%28int%20**%29%20malloc%20%28num1%20*%20sizeof%28int%20*%29%29%3B%0A%20%20%20%20if%20%28!x%29%0A%20%20%20%20%20%20return%20EXIT_FAILURE%3B%0A%0A%20%20%20%20//%20memoria%20contigua%0A%20%20%20%20x%5B0%5D%20%3D%20%28int*%29%20malloc%20%28num1%20*%20num2%20*%20sizeof%28int%29%29%3B%0A%20%20%20%20if%20%28!x%5B0%5D%29%20%7B%0A%20%20%20%20%20%20%20%20free%20%28x%29%3B%0A%20%20%20%20%20%20%20%20return%20EXIT_FAILURE%3B%0A%20%20%20%20%7D%0A%0A%20%20%20%20//%20Set%20the%20pointers%0A%20%20%20%20for%20%28i%20%3D%201%3B%20i%20%3C%20num1%3B%20i%2B%2B%29%20%7B%0A%20%20%20%20%20%20%20%20x%5Bi%5D%20%3D%20x%5B0%5D%20%2B%20num2%20*i%3B%0A%20%20%20%20%7D%0A%20%20%20%20%0A%20%20%20%20//%20Assign%20values%0A%20%20%20%20for%20%28i%20%3D%200%3B%20i%20%3C%20num1%20%3B%20i%2B%2B%29%20%7B%0A%20%20%20%20%20%20%20%20for%28j%20%3D%200%3B%20j%20%3C%20num2%3B%20j%2B%2B%29%20%7B%0A%20%20%20%20%20%20%20%20%20%20%20%20x%5Bi%5D%5Bj%5D%20%3D%20i*100%20%2B%20j%3B%0A%20%20%20%20%20%20%20%20%7D%0A%20%20%20%20%7D%0A%20%20%20%20%0A%20%20%20%20//%20Free%20memory%0A%20%20%20%20free%20%28x%5B0%5D%29%3B%0A%20%20%20%20free%20%28x%29%3B%20%0A%0A%20%20%20%20return%20EXIT_SUCCESS%3B%20%20%20%20%20%20%0A%7D%0A&cumulative=false&curInstr=55&heapPrimitives=nevernest&mode=display&origin=opt-frontend.js&py=c_gcc9.3.0&rawInputLstJSON=%5B%5D&textReferences=false)\n",
    "\n",
    "Notad como, a diferencia del caso anterior, la memoria reservada sí es contigua"
   ]
  },
  {
   "cell_type": "code",
   "execution_count": null,
   "metadata": {
    "colab": {
     "base_uri": "https://localhost:8080/"
    },
    "executionInfo": {
     "elapsed": 974,
     "status": "ok",
     "timestamp": 1613577860054,
     "user": {
      "displayName": "Programación II",
      "photoUrl": "",
      "userId": "07270898111776996836"
     },
     "user_tz": -60
    },
    "id": "99GtAShgwnbU",
    "outputId": "bef315f3-b60a-4967-bbd0-06b28fce193b"
   },
   "outputs": [],
   "source": [
    "%%writefile pp.c\n",
    "\n",
    "#include <stdlib.h>\n",
    "#include <stdio.h>\n",
    "\n",
    "int main() {\n",
    "    int i, j, num1, num2;\n",
    "    int **x;\n",
    "    \n",
    "    num1 = 5;\n",
    "    num2 = 3;\n",
    "    \n",
    "    // Alloc memory for the pointers\n",
    "    x = (int **) malloc (num1 * sizeof(int *));\n",
    "    if (!x)\n",
    "      return EXIT_FAILURE;\n",
    "\n",
    "    // memoria contigua\n",
    "    x[0] = (int*) malloc (num1 * num2 * sizeof(int));\n",
    "    if (!x[0]) {\n",
    "        free (x);\n",
    "        return EXIT_FAILURE;\n",
    "    }\n",
    "\n",
    "    // Set the pointers\n",
    "    for (i = 1; i < num1; i++) {\n",
    "        x[i] = x[0] + num2 *i;\n",
    "    }\n",
    "    \n",
    "    // Assign values\n",
    "    for (i = 0; i < num1 ; i++) {\n",
    "        for(j = 0; j < num2; j++) {\n",
    "            x[i][j] = i*100 + j;\n",
    "        }\n",
    "    }\n",
    "    \n",
    "    // Free memory\n",
    "    free (x[0]);\n",
    "    free (x); \n",
    "\n",
    "    return EXIT_SUCCESS;      \n",
    "}\n"
   ]
  },
  {
   "cell_type": "markdown",
   "metadata": {
    "id": "7Zm6D9GQ-cHH"
   },
   "source": [
    "## Strings (cadenas de caracteres)\n",
    "\n",
    "A diferencia de otros lenguajes en C no existe el tipo de dato *cadena de caracteres*. \n",
    "En `C` una cadena de caracteres es un array de caracteres donde el último caráácter de la cadena es el símbolo `\\0` .\n",
    "\n",
    "Hay varias formas de inicializar una cadena de caracteres pero hay que tener cuidado con algunas de ellas!!! [Python tutorial](http://pythontutor.com/visualize.html#code=%0A%23include%20%3Cstdlib.h%3E%0A%23include%20%3Cstdio.h%3E%0A%23include%20%3Cstring.h%3E%0A%0A%23define%20MAXCADENA%208%0A%0Aint%20main%20%28int%20argc,%20char%20*argv%5B%5D%29%20%7B%0A%20%20%20%20char%20cad1%5BMAXCADENA%5D%3B%0A%20%20%20%20char%20cad2%5B%5D%20%3D%20%7B'p',%20'e',%20'p',%20'a',%20'%5C0'%7D%3B%0A%20%20%20%20char%20*cad3%20%3D%20NULL%20%3B%0A%20%20%20%20char%20*cad4%20%3D%20NULL%3B%0A%20%20%20%20size_t%20size%3B%0A%0A%20%20%20%20strcpy%20%28cad1,%20%22hola%20%22%29%3B%20%0A%20%20%20%20strncpy%20%28cad1,%20%22hola%20%22,%20MAXCADENA-1%29%3B%0A%0A%20%20%20%20cad3%20%3D%20%28char*%29%20malloc%20%28MAXCADENA%29%3B%0A%20%20%20%20if%20%28cad3%29%0A%20%20%20%20%20%20strncpy%20%28cad3,%20%22%20paso%22,%20MAXCADENA-1%29%3B%0A%20%20%20%20%0A%20%20%20%20cad4%20%3D%20%22%20casa%3F%22%3B%20%0A%0A%20%20%20//%20fprintf%20%28stdout,%20%22%25s%25s%25s%25s%5Cn%22,%20cad1,%20cad2,%20cad3,%20cad4%29%3B%0A%0A%20%20%20%20cad1%5B0%5D%20%3D%20'H'%3B%0A%20%20%20%20cad2%5B0%5D%20%3D%20'P'%3B%0A%20%20%20%20cad3%5B0%5D%20%3D%20'P'%3B%0A%20%20%20%20/*%0A%20%20%20%20cad4%5B0%5D%20%3D%20'P'%3B%20//%20ATENTION%20NOT%20ALLOWED%0A%20%20%20%20*/%0A%0A%20%20%20%20free%20%28cad3%29%3B%0A%7D&cumulative=false&curInstr=0&heapPrimitives=nevernest&mode=display&origin=opt-frontend.js&py=c&rawInputLstJSON=%5B%5D&textReferences=false)\n",
    "\n"
   ]
  },
  {
   "cell_type": "code",
   "execution_count": null,
   "metadata": {
    "id": "pFz7PluE_c1W"
   },
   "outputs": [],
   "source": [
    "%%writefile pp.c\n",
    "\n",
    "#include <stdlib.h>\n",
    "#include <stdio.h>\n",
    "#include <string.h>\n",
    "\n",
    "#define MAXCADENA 8\n",
    "\n",
    "int main (int argc, char *argv[]) {\n",
    "    char cad1[MAXCADENA];\n",
    "    char cad2[] = {'p', 'e', 'p', 'a', '\\0'};\n",
    "    char *cad3 = NULL ;\n",
    "    char *cad4 = NULL;\n",
    "    size_t size;\n",
    "\n",
    "    strcpy (cad1, \"hola \"); \n",
    "    strncpy (cad1, \"hola \", MAXCADENA-1);\n",
    "\n",
    "    cad3 = (char*) malloc (MAXCADENA);\n",
    "    if (cad3)\n",
    "      strncpy (cad3, \" paso\", MAXCADENA-1);\n",
    "    \n",
    "    cad4 = \" casa?\"; \n",
    "\n",
    "   // fprintf (stdout, \"%s%s%s%s\\n\", cad1, cad2, cad3, cad4);\n",
    "\n",
    "    cad1[0] = 'H';\n",
    "    cad2[0] = 'P';\n",
    "    cad3[0] = 'P';\n",
    "    /*\n",
    "    cad4[0] = 'P'; // ATENTION NOT ALLOWED\n",
    "    */\n",
    "\n",
    "    free (cad3);\n",
    "}"
   ]
  },
  {
   "cell_type": "markdown",
   "metadata": {
    "id": "P_g5nWDII9jW"
   },
   "source": [
    "¿Entiendes ahora la expresión `char *argv[]`?[Python tutorial](http://pythontutor.com/visualize.html#code=%23include%20%3Cstdlib.h%3E%0A%23include%20%3Cstdio.h%3E%0A%23include%20%3Cstring.h%3E%0A%0A%23define%20MAXCADENA%208%0A%0Aint%20main%20%28int%20argc,%20char%20*argv%5B%5D%29%20%7B%0A%20%20%20char%20*my_argv%5B%5D%20%3D%7B%22...%22,%20%22hola%22,%20%22don%22,%20%22pepito%22%7D%3B%0A%20%20%20int%20my_argc%20%3D%204%3B%0A%0A%20%20%20fprintf%20%28stdout,%20%22%25s%20%25s%20%25s%22,%20my_argv%5B1%5D,%20%0A%20%20%20%20%20%20%20%20%20%20%20%20my_argv%5B2%5D,%20my_argv%5B3%5D%29%3B%0A%0A%20%20%20%20return%20EXIT_SUCCESS%3B%0A%7D%0A&cumulative=false&curInstr=3&heapPrimitives=nevernest&mode=display&origin=opt-frontend.js&py=c&rawInputLstJSON=%5B%5D&textReferences=false) "
   ]
  },
  {
   "cell_type": "code",
   "execution_count": null,
   "metadata": {
    "id": "5RN9MXc_HDx2"
   },
   "outputs": [],
   "source": [
    "%%writefile pp.c\n",
    "\n",
    "#include <stdlib.h>\n",
    "#include <stdio.h>\n",
    "#include <string.h>\n",
    "\n",
    "#define MAXCADENA 8\n",
    "\n",
    "int main (int argc, char *argv[]) {\n",
    "   char *my_argv[] ={\"...\", \"hola\", \"don\", \"pepito\"};\n",
    "   int my_argc = 4;\n",
    "\n",
    "   fprintf (stdout, \"%s %s %s\", my_argv[1], \n",
    "            my_argv[2], my_argv[3]);\n",
    "\n",
    "    return EXIT_SUCCESS;\n",
    "}\n",
    "\n"
   ]
  },
  {
   "cell_type": "markdown",
   "metadata": {
    "id": "EISWaDjOWk2R"
   },
   "source": [
    "## Programación estructurada"
   ]
  },
  {
   "cell_type": "markdown",
   "metadata": {
    "id": "CAPnR1MbI6-A"
   },
   "source": [
    "* ¿Es correcto el siguiente código? Sigue la ejecucióón línea a línea y utiliza Valgrind [Python tutorial](http://pythontutor.com/visualize.html#code=%0A%23include%20%3Cstdlib.h%3E%0A%23include%20%3Cstdio.h%3E%0A%23include%20%3Cstdbool.h%3E%0A%0A%23define%20SIZE%203%0A%0Aint%20main%20%28int%20argc,%20char%20*argv%5B%5D%29%20%7B%0A%20%20%20%20int%20*p%5BSIZE%5D%20%3D%20%7BNULL%7D%3B%0A%20%20%20%20int%20i%3B%0A%20%20%20%20bool%20st%20%3D%20true%3B%0A%0A%20%20%20%20for%20%28i%20%3D0%3B%20i%20%3C%20SIZE%20%26%26%20st%20%3D%3D%20true%3B%20i%2B%2B%29%20%7B%0A%20%20%20%20%20%20%20%20p%5Bi%5D%20%3D%20%28int%20*%29%20malloc%20%28sizeof%28int%29%29%3B%0A%20%20%20%20%20%20%20%20if%20%28!p%5Bi%5D%29%20%0A%20%20%20%20%20%20%20%20%20%20st%20%3D%20false%3B%0A%20%20%20%20%7D%0A%20%20%20%20/*%20Error%20Control.%20If%20there%20was%20a%20problem%20with%20the%20memory%20allocation%20%0A%20%20%20%20%20*%20the%20allocated%20resources%20must%20be%20freed%0A%20%20%20%20%20**/%20%0A%20%20%20%20if%20%28i%20%3C%20SIZE%29%20%7B%0A%20%20%20%20%20%20%20%20for%20%28%20%3B%20i%20%3E%3D%200%3B%20i--%29%0A%20%20%20%20%20%20%20%20%20%20free%20%28p%5Bi%5D%29%3B%0A%20%20%20%20%20%20%20%20return%20EXIT_FAILURE%3B%0A%20%20%20%20%7D%0A%0A%20%20%20%20/*%20Assign%20values%20%20*/%0A%20%20%20%20for%20%28i%20%3D%200%20%3B%20i%20%3C%20SIZE%3B%20i%2B%2B%29%0A%20%20%20%20%20%20*%28p%5Bi%5D%29%20%3D%20100*i%3B%20%0A%0A%20%20%20%20/*%20Show%20values%20*/%0A%20%20%20%20for%20%28i%20%3D%200%20%3B%20i%20%3C%20SIZE%3B%20i%2B%2B%29%0A%20%20%20%20%20%20fprintf%20%28stdout,%20%22%25d%20%20%25d%5Cn%22,%20**%28p%2Bi%29,%20**%28p%2Bi%29%20%3D%3D%20*p%5Bi%5D%29%3B%0A%0A%20%20%20%20/*%20Free%20sources%20*/%0A%20%20%20%20for%20%28%20i%20%3D%200%20%3B%20i%20%3C%20SIZE%3B%20i%2B%2B%29%0A%20%20%20%20%20%20%20%20%20%20free%20%28p%5Bi%5D%29%3B%0A%0A%20%20%20%20//%20free%20%28p%29%3B%0A%0A%20%20%20%20return%20EXIT_SUCCESS%3B%0A%7D%0A%0A&cumulative=false&curInstr=35&heapPrimitives=nevernest&mode=display&origin=opt-frontend.js&py=c&rawInputLstJSON=%5B%5D&textReferences=false)"
   ]
  },
  {
   "cell_type": "code",
   "execution_count": null,
   "metadata": {
    "id": "iErEWPDhKUGm"
   },
   "outputs": [],
   "source": [
    "%%writefile pp.c\n",
    "\n",
    "#include <stdlib.h>\n",
    "#include <stdio.h>\n",
    "#include <stdbool.h>\n",
    "\n",
    "#define SIZE 3\n",
    "\n",
    "int main (int argc, char *argv[]) {\n",
    "    int *p[SIZE] = {NULL};\n",
    "    int i;\n",
    "    bool st = true;\n",
    "\n",
    "    for (i =0; i < SIZE && st == true; i++) {\n",
    "        p[i] = (int *) malloc (sizeof(int));\n",
    "        if (!p[i]) \n",
    "          st = false;\n",
    "    }\n",
    "    /* Error Control. If there was a problem with the memory allocation \n",
    "     * the allocated resources must be freed\n",
    "     **/ \n",
    "    if (i < SIZE) {\n",
    "        for ( ; i >= 0; i--)\n",
    "          free (p[i]);\n",
    "        return EXIT_FAILURE;\n",
    "    }\n",
    "\n",
    "    /* Assign values  */\n",
    "    for (i = 0 ; i < SIZE; i++)\n",
    "      *(p[i]) = 100*i; \n",
    "\n",
    "    /* Show values */\n",
    "    for (i = 0 ; i < SIZE; i++)\n",
    "      fprintf (stdout, \"%d  %d\\n\", **(p+i), **(p+i) == *p[i]);\n",
    "\n",
    "    /* Free sources */\n",
    "    for ( i = 0 ; i < SIZE; i++)\n",
    "          free (p[i]);\n",
    "\n",
    "    // free (p);\n",
    "\n",
    "    return EXIT_SUCCESS;\n",
    "}\n",
    "\n"
   ]
  },
  {
   "cell_type": "markdown",
   "metadata": {
    "id": "fEHJ3ZKCNfdt"
   },
   "source": [
    "Como has podido verificar el programa anterior era *sintácticamente* correcto (la compilación y ejecución fue correcta), gestionaba correctamente la memoria (se realizó el oportuno control de errores para prevenir una posible violación de segmento si la reserva de memoria dinámica fallase) y finalmente se liberaron los recursos tal y como se mostraba en Valgrind. Pero aun así **¿Podemos considerarlo un programa correcto? No**. El programa no cumple uno de los principios básicos de la *programación  estructurada*. Debemos procurar que cada una de las acciones incluídas en el main (reserva de memoria, asignación de valores, impresión de los valores y liberación de los recursos) se realicen en diferentes funciones y en el main tan solo invoquemos a las funciones correspondientes. [Pyton tutorial](http://pythontutor.com/visualize.html#code=%0A%23include%20%3Cstdlib.h%3E%0A%23include%20%3Cstdio.h%3E%0A%23include%20%3Cstdbool.h%3E%0A%0A%23define%20SIZE%203%0A%0Atypedef%20enum%20%7BERROR%20%3D%200,%20OK%20%3D%201%7D%20Status%3B%0A%0A%0A//%20Declare%20functions%0AStatus%20array_init%20%28int%20**%29%3B%0Aint%20array_free%20%28int,%20int%20**%29%3B%0Avoid%20array_setValues%20%28int%20**%29%3B%0Aint%20array_print%20%28FILE%20*,%20int%20**%29%3B%20%0A%0A%0Aint%20main%20%28int%20argc,%20char%20*argv%5B%5D%29%20%7B%0A%20%20%20%20int%20*p%5BSIZE%5D%20%3D%20%7BNULL%7D%3B%0A%20%20%20%20int%20i%3B%0A%20%20%20%20Status%20st%20%3D%20OK%3B%0A%20%20%20%20FILE%20*pf%20%3D%20NULL%3B%0A%0A%20%20%20%20//%20Allocate%20memory%20for%20the%20array%0A%20%20%20%20st%20%3D%20array_init%20%28p%29%3B%0A%20%20%20%20if%20%28st%20%3D%3D%20ERROR%29%0A%20%20%20%20%20%20return%20array_free%20%28EXIT_FAILURE,%20p%29%3B%0A%0A%20%20%20%20//%20Set%20the%20array%20values%3B%0A%20%20%20%20array_setValues%20%28p%29%3B%0A%0A%20%20%20%20//%20Print%20the%20array%20%0A%20%20%20%20array_print%20%28stdout,%20p%29%3B%0A%0A%20%20%20%20//%20Free%20resources%0A%20%20%20%20return%20array_free%20%28EXIT_SUCCESS,%20p%29%3B%0A%7D%0A%0AStatus%20array_init%20%28int%20**p%29%20%7B%0A%20%20%20%20int%20i%3B%0A%20%20%20%20Status%20st%20%3D%20OK%3B%0A%20%20%20%20%0A%20%20%20%20for%20%28i%20%3D%200%3B%20i%20%3C%20SIZE%20%26%26%20st%20%3D%3D%20OK%3B%20i%2B%2B%29%20%7B%0A%20%20%20%20%20%20%20%20p%5Bi%5D%20%3D%20%28int%20*%29%20malloc%20%28sizeof%28int%29%29%3B%0A%20%20%20%20%20%20%20%20if%20%28!p%5Bi%5D%29%20%0A%20%20%20%20%20%20%20%20%20%20st%20%3D%20ERROR%3B%0A%20%20%20%20%7D%0A%20%20%20%20return%20st%3B%0A%7D%0A%0Aint%20array_free%20%28int%20message,%20int%20**p%29%20%7B%0A%20%20%20%20int%20i%3B%0A%20%20%20%20%0A%20%20%20%20for%20%28i%20%3D%200%3B%20i%20%3C%20SIZE%3B%20i%2B%2B%29%20%7B%0A%20%20%20%20%20%20%20%20%20%20free%20%28p%5Bi%5D%29%3B%0A%20%20%20%20%7D%0A%20%20%20%20return%20message%3B%0A%7D%0A%0Avoid%20array_setValues%20%28int%20**p%29%20%7B%0A%20%20%20%20int%20i%3B%0A%20%20%20%20%0A%20%20%20%20for%20%28i%20%3D%200%20%3B%20i%20%3C%20SIZE%3B%20i%2B%2B%29%0A%20%20%20%20%20%20*%28p%5Bi%5D%29%20%3D%20100%20*%20i%3B%20%0A%7D%20%20%20%20%20%20%0A%0Aint%20array_print%20%28FILE%20*pf,%20int%20**p%29%20%7B%0A%20%20%20%20int%20i%3B%0A%20%20%20%20int%20c%20%3D%200%3B%0A%0A%20%20%20%20for%20%28i%20%3D%200%20%3B%20i%20%3C%20SIZE%3B%20i%2B%2B%29%20%7B%0A%20%20%20%20%20%20c%20%20%3D%20c%20%2B%20fprintf%20%28pf,%20%22%25d%20%20%22,%20*p%5Bi%5D%29%3B%0A%20%20%20%20%7D%0A%20%20%20%20return%20i%3B%0A%7D%0A%20%20&cumulative=false&curInstr=42&heapPrimitives=nevernest&mode=display&origin=opt-frontend.js&py=c&rawInputLstJSON=%5B%5D&textReferences=false)"
   ]
  },
  {
   "cell_type": "code",
   "execution_count": null,
   "metadata": {
    "id": "XRmmpPu9NpkB"
   },
   "outputs": [],
   "source": [
    "%%writefile pp.c\n",
    "\n",
    "#include <stdlib.h>\n",
    "#include <stdio.h>\n",
    "#include <stdbool.h>\n",
    "\n",
    "#define SIZE 3\n",
    "\n",
    "typedef enum {ERROR = 0, OK = 1} Status;\n",
    "\n",
    "\n",
    "// Declare functions\n",
    "Status array_init (int **);\n",
    "int array_free (int, int **);\n",
    "void array_setValues (int **);\n",
    "int array_print (FILE *, int **); \n",
    "\n",
    "\n",
    "int main (int argc, char *argv[]) {\n",
    "    int *p[SIZE] = {NULL};\n",
    "    int i;\n",
    "    Status st = OK;\n",
    "    FILE *pf = NULL;\n",
    "\n",
    "    // Allocate memory for the array\n",
    "    st = array_init (p);\n",
    "    if (st == ERROR)\n",
    "      return array_free (EXIT_FAILURE, p);\n",
    "\n",
    "    // Set the array values;\n",
    "    array_setValues (p);\n",
    "\n",
    "    // Print the array \n",
    "    array_print (stdout, p);\n",
    "\n",
    "    // Free resources\n",
    "    return array_free (EXIT_SUCCESS, p);\n",
    "}\n",
    "\n",
    "Status array_init (int **p) {\n",
    "    int i;\n",
    "    Status st = OK;\n",
    "    \n",
    "    for (i = 0; i < SIZE && st == OK; i++) {\n",
    "        p[i] = (int *) malloc (sizeof(int));\n",
    "        if (!p[i]) \n",
    "          st = ERROR;\n",
    "    }\n",
    "    return st;\n",
    "}\n",
    "\n",
    "int array_free (int message, int **p) {\n",
    "    int i;\n",
    "    \n",
    "    for (i = 0; i < SIZE; i++) {\n",
    "          free (p[i]);\n",
    "    }\n",
    "    return message;\n",
    "}\n",
    "\n",
    "void array_setValues (int **p) {\n",
    "    int i;\n",
    "    \n",
    "    for (i = 0 ; i < SIZE; i++)\n",
    "      *(p[i]) = 100 * i; \n",
    "}      \n",
    "\n",
    "int array_print (FILE *pf, int **p) {\n",
    "    int i;\n",
    "    int c = 0;\n",
    "\n",
    "    for (i = 0 ; i < SIZE; i++) {\n",
    "      c  = c + fprintf (pf, \"%d  \", *p[i]);\n",
    "    }\n",
    "    return i;\n",
    "}\n",
    "  "
   ]
  }
 ],
 "metadata": {
  "colab": {
   "collapsed_sections": [],
   "name": "repasoC.ipynb",
   "provenance": [],
   "toc_visible": true
  },
  "hide_input": false,
  "kernelspec": {
   "display_name": "Python 3",
   "language": "python",
   "name": "python3"
  },
  "latex_envs": {
   "LaTeX_envs_menu_present": true,
   "autoclose": false,
   "autocomplete": true,
   "bibliofile": "biblio.bib",
   "cite_by": "apalike",
   "current_citInitial": 1,
   "eqLabelWithNumbers": true,
   "eqNumInitial": 1,
   "hotkeys": {
    "equation": "Ctrl-E",
    "itemize": "Ctrl-I"
   },
   "labels_anchors": false,
   "latex_user_defs": false,
   "report_style_numbering": false,
   "user_envs_cfg": false
  },
  "nbTranslate": {
   "displayLangs": [
    "en",
    "es"
   ],
   "hotkey": "alt-t",
   "langInMainMenu": true,
   "sourceLang": "es",
   "targetLang": "en",
   "useGoogleTranslate": true
  },
  "toc": {
   "base_numbering": 1,
   "nav_menu": {},
   "number_sections": true,
   "sideBar": true,
   "skip_h1_title": false,
   "title_cell": "Table of Contents",
   "title_sidebar": "Contents",
   "toc_cell": false,
   "toc_position": {},
   "toc_section_display": true,
   "toc_window_display": false
  }
 },
 "nbformat": 4,
 "nbformat_minor": 1
}
